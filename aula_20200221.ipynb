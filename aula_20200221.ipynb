{
  "nbformat": 4,
  "nbformat_minor": 0,
  "metadata": {
    "colab": {
      "name": "Python.ipynb",
      "provenance": [],
      "collapsed_sections": [],
      "toc_visible": true,
      "authorship_tag": "ABX9TyMRixaLQ/GaU5tvCaN2BETZ",
      "include_colab_link": true
    },
    "kernelspec": {
      "name": "python3",
      "display_name": "Python 3"
    }
  },
  "cells": [
    {
      "cell_type": "markdown",
      "metadata": {
        "id": "view-in-github",
        "colab_type": "text"
      },
      "source": [
        "<a href=\"https://colab.research.google.com/github/titocampos/estudo-crm/blob/master/aula_20200221.ipynb\" target=\"_parent\"><img src=\"https://colab.research.google.com/assets/colab-badge.svg\" alt=\"Open In Colab\"/></a>"
      ]
    },
    {
      "cell_type": "markdown",
      "metadata": {
        "id": "aiK29bbaBgXy",
        "colab_type": "text"
      },
      "source": [
        "#Strings\n",
        "Você também aprendeu a usar as operações + e * com strings. Diferentemente de tipos numéricos, como ints e floats, o operador + concatena seqüências de caracteres, enquanto o * concatena várias cópias de uma sequência. "
      ]
    },
    {
      "cell_type": "code",
      "metadata": {
        "id": "CmLrVbvNA6pR",
        "colab_type": "code",
        "colab": {}
      },
      "source": [
        "print(\"data \" + \"analysis \" + \"visualization\")\n",
        "print(1 * 3)\n",
        "print(\"ha \" * 3)"
      ],
      "execution_count": 0,
      "outputs": []
    },
    {
      "cell_type": "markdown",
      "metadata": {
        "id": "ut570dMaEPg9",
        "colab_type": "text"
      },
      "source": [
        "# Tuples\n",
        "\n",
        "Uma tupla é uma sequência de objetos Python imutáveis. Tuplas são sequências, assim como listas. As diferenças entre tuplas e listas são: as tuplas não podem ser alteradas, ao contrário das listas e as tuplas usam parênteses, enquanto as listas usam colchetes. Criar uma tupla é tão simples quanto colocar diferentes valores separados por vírgula.\n"
      ]
    },
    {
      "cell_type": "code",
      "metadata": {
        "id": "ZW0_Lgz6Ey1f",
        "colab_type": "code",
        "colab": {}
      },
      "source": [
        "_, num2, num3 = (2, 4, 6)\n",
        "even_nums = (2, num2, num3)\n",
        "print (even_nums)\n",
        "print (even_nums[2])\n",
        "\n",
        "for num in even_nums:\n",
        "  print(num)"
      ],
      "execution_count": 0,
      "outputs": []
    },
    {
      "cell_type": "markdown",
      "metadata": {
        "id": "VJP_dnLlGRvW",
        "colab_type": "text"
      },
      "source": [
        "# Dictionary \n",
        "\n",
        "Uma coleção não ordenada de valores de dados, usada para armazenar valores de dados como um mapa, que, diferentemente de outrostTipos de dados que mantêm apenas um valor único como elemento, um dicionario mantém um par chave: valor. "
      ]
    },
    {
      "cell_type": "code",
      "metadata": {
        "id": "X6O5WILMGSb9",
        "colab_type": "code",
        "colab": {}
      },
      "source": [
        "fones = {'Marina': '3333-3333', 'Tabata': '4444-4444'}\n",
        "\n",
        "for key, value in fones.items():\n",
        "  print('O telefone de {} é {}'.format(key, value))\n"
      ],
      "execution_count": 0,
      "outputs": []
    },
    {
      "cell_type": "markdown",
      "metadata": {
        "id": "OIKKIfhrFkKS",
        "colab_type": "text"
      },
      "source": [
        "# Functions\n",
        "\n",
        "Uma função é um bloco de código que só é executado quando é chamado. Você pode passar dados, conhecidos como parâmetros, para uma função. Uma função pode retornar dados como resultado."
      ]
    },
    {
      "cell_type": "code",
      "metadata": {
        "id": "NqxYx8m-Hn9A",
        "colab_type": "code",
        "colab": {}
      },
      "source": [
        "def soma (val1, val2):\n",
        "  return val1 + val2\n",
        "\n",
        "print (soma(3,4))"
      ],
      "execution_count": 0,
      "outputs": []
    },
    {
      "cell_type": "markdown",
      "metadata": {
        "id": "MdOsiktfH9s6",
        "colab_type": "text"
      },
      "source": [
        "# Scope Global\n",
        "Uma variável declarada fora de uma função  é conhecida como variável global. Isso significa que a variável global pode ser acessada dentro ou fora da função. Atente-se para o fato que dentro da funcao a variavel assume o escopo local, se não for utilizado o modificador GLOBAL "
      ]
    },
    {
      "cell_type": "code",
      "metadata": {
        "id": "aeUSmyRAJHDA",
        "colab_type": "code",
        "colab": {}
      },
      "source": [
        "def func1():\n",
        "    num = 3\n",
        "    print(num)\n",
        "\n",
        "def func2():\n",
        "    global num\n",
        "    double_num = num * 2\n",
        "    num = 6\n",
        "    print(double_num)\n",
        "\n",
        "num = 5\n",
        "func1()    \n",
        "func2()"
      ],
      "execution_count": 0,
      "outputs": []
    },
    {
      "cell_type": "markdown",
      "metadata": {
        "id": "v0jBVsOBLGkB",
        "colab_type": "text"
      },
      "source": [
        "# Nested Functions\n",
        "\n",
        "Uma função definida dentro de outra função é chamada de função aninhada. Funções aninhadas podem acessar variáveis do escopo anexo. No Python, essas variáveis não locais são lidas apenas por padrão e devemos declará-las explicitamente como não locais (usando palavras-chave nonlocal) para modificá-las."
      ]
    },
    {
      "cell_type": "code",
      "metadata": {
        "id": "Bo-7vKTrMYkI",
        "colab_type": "code",
        "colab": {}
      },
      "source": [
        "def echo_shout(word):\n",
        "    echo_word = word\n",
        "    \n",
        "    def double():\n",
        "      def shout():\n",
        "          #nonlocal echo_word\n",
        "          echo_word += \"!!!\"\n",
        "          print(echo_word)\n",
        "\n",
        "      nonlocal echo_word\n",
        "      echo_word *= 2 \n",
        "      print(echo_word)\n",
        "      shout()    \n",
        "\n",
        "    double()\n",
        "\n",
        "echo_shout(\"hello \")"
      ],
      "execution_count": 0,
      "outputs": []
    },
    {
      "cell_type": "markdown",
      "metadata": {
        "id": "x_ureOWRMUbC",
        "colab_type": "text"
      },
      "source": [
        "Um outro motivo bastante interessante para funções de aninhamento é a idéia de um \"closure\". Isso significa que a função aninhada ou interna se lembra do estado do seu escopo delimitador quando chamada. Portanto, qualquer coisa definida localmente no escopo anexo está disponível para a função interna, mesmo quando a função externa tiver concluído a execução."
      ]
    },
    {
      "cell_type": "code",
      "metadata": {
        "id": "tQW2_9daLvjq",
        "colab_type": "code",
        "colab": {}
      },
      "source": [
        "def echo(n):\n",
        "    \"\"\"Return the inner_echo function.\"\"\"\n",
        "\n",
        "    def inner_echo(word):\n",
        "        echo_word = (word + '!!!') * n\n",
        "        return echo_word\n",
        "\n",
        "    return inner_echo\n",
        "\n",
        "twice = echo(2)\n",
        "thrice = echo(3)\n",
        "\n",
        "print(twice('Ola')) \n",
        "print(thrice('ha'))"
      ],
      "execution_count": 0,
      "outputs": []
    },
    {
      "cell_type": "markdown",
      "metadata": {
        "id": "ZvuxFyHxnNVp",
        "colab_type": "text"
      },
      "source": [
        "# Default arguments\n",
        "\n",
        "\n",
        "Os valores padrão indicam que o argumento da função assumirá esse valor se nenhum valor do argumento for passado durante a chamada da função. O valor padrão é atribuído usando o operador de atribuição (=)"
      ]
    },
    {
      "cell_type": "code",
      "metadata": {
        "id": "Li3-G7sYoWmW",
        "colab_type": "code",
        "colab": {}
      },
      "source": [
        "def shout_echo(word1, echo=1, intense=False):\n",
        "    \"\"\"Concatenate echo copies of word1 and False\n",
        "    exclamation marks at the end of the string.\"\"\"\n",
        "    echo_word = word1 * echo\n",
        "    if intense is True:\n",
        "        echo_word_new = echo_word.upper() + '!!!'\n",
        "    else:\n",
        "        echo_word_new = echo_word + '!!!'\n",
        "    return echo_word_new\n",
        "\n",
        "with_big_echo = shout_echo(\"Hey\",5,True)\n",
        "big_no_echo = shout_echo(\"Hey\", intense=True)\n",
        "print(with_big_echo)\n",
        "print(big_no_echo)\n"
      ],
      "execution_count": 0,
      "outputs": []
    },
    {
      "cell_type": "markdown",
      "metadata": {
        "id": "I4SeFiFKo_7t",
        "colab_type": "text"
      },
      "source": [
        "# Variable-length arguments (*args)\n",
        "\n",
        "Argumentos flexíveis permitem passar um número variável de argumentos para uma função. Atente-se que o parâmetro variável é uma tupla."
      ]
    },
    {
      "cell_type": "code",
      "metadata": {
        "id": "7qxTjsfGp15b",
        "colab_type": "code",
        "colab": {}
      },
      "source": [
        "def gibberish(*args):\n",
        "    \"\"\"Concatenate strings in *args together.\"\"\"\n",
        "    hodgepodge =\"\"\n",
        "    for word in args:\n",
        "        hodgepodge += word\n",
        "    return hodgepodge\n",
        "\n",
        "one_word = gibberish(\"luke\")\n",
        "\n",
        "many_words = gibberish(\"luke\", \"leia\", \"han\", \"obi\", \"darth\")\n",
        "\n",
        "print(one_word)\n",
        "print(many_words)"
      ],
      "execution_count": 0,
      "outputs": []
    },
    {
      "cell_type": "markdown",
      "metadata": {
        "id": "amIDmpUZsWwg",
        "colab_type": "text"
      },
      "source": [
        "# Variable-length keyword arguments (**kwargs)\n",
        "\n",
        "\n",
        "Vamos aprofundar o que você aprendeu sobre argumentos flexíveis - você usou * args, agora usará ** kwargs! O que torna ** kwargs diferente é que ele permite que você passe um número variável de argumentos de palavras-chave para funções.  Atente-se que o parâmetro variável, neste caso, é um dicionario ."
      ]
    },
    {
      "cell_type": "code",
      "metadata": {
        "id": "CpYaQYrAsXD6",
        "colab_type": "code",
        "colab": {}
      },
      "source": [
        "def report_status(**kwargs):\n",
        "    \"\"\"Print out the status of a movie character.\"\"\"\n",
        "    print(\"\\nBEGIN: REPORT\\n\")\n",
        "    for key, value in kwargs.items():\n",
        "        print(key + \": \" + value)\n",
        "\n",
        "    print(\"\\nEND REPORT\")\n",
        "\n",
        "report_status(name=\"luke\", affiliation=\"jedi\", status=\"missing\")\n",
        "report_status(name=\"anakin\", affiliation=\"sith lord\", status=\"deceased\")"
      ],
      "execution_count": 0,
      "outputs": []
    },
    {
      "cell_type": "markdown",
      "metadata": {
        "id": "BHbUpsSUtmSy",
        "colab_type": "text"
      },
      "source": [
        "# Lambda function\n",
        "Usamos funções lambda quando exigimos uma função sem nome por um curto período de tempo. Em Python, geralmente o usamos como argumento para uma função de ordem superior (uma função que aceita outras funções como argumentos). As funções Lambda são usadas junto com funções internas como filter (), map () etc."
      ]
    },
    {
      "cell_type": "code",
      "metadata": {
        "id": "SzWIj1fYtmdx",
        "colab_type": "code",
        "colab": {}
      },
      "source": [
        "echo_word = (lambda word1,echo: word1*echo)\n",
        "result = echo_word(\"hey\",5)\n",
        "print(result)"
      ],
      "execution_count": 0,
      "outputs": []
    },
    {
      "cell_type": "markdown",
      "metadata": {
        "id": "ETRnHlnZxFjs",
        "colab_type": "text"
      },
      "source": [
        "# Map() and lambda function\n",
        "\n",
        "\n",
        "O melhor caso de uso para funções lambda, no entanto, é quando você deseja que essas funcionalidades simples sejam incorporadas anonimamente em expressões maiores. O que isso significa é que a funcionalidade não é armazenada no ambiente, ao contrário de uma função definida com def. Para entender melhor essa idéia, você usará uma função lambda no contexto da função map ()."
      ]
    },
    {
      "cell_type": "code",
      "metadata": {
        "id": "zs9SaUfBw4p9",
        "colab_type": "code",
        "colab": {}
      },
      "source": [
        "spells = [\"protego\", \"accio\", \"expecto patronum\", \"legilimens\"]\n",
        "shout_spells = map(lambda a:a+\"!!!\", spells)\n",
        "shout_spells_list=list(shout_spells)\n",
        "print(shout_spells_list)"
      ],
      "execution_count": 0,
      "outputs": []
    },
    {
      "cell_type": "markdown",
      "metadata": {
        "id": "q2K_nKYpxd9u",
        "colab_type": "text"
      },
      "source": [
        "# Filter() and lambda functions\n",
        "\n",
        "A função filter() oferece uma maneira de filtrar elementos de uma lista que não atendem a determinados critérios.\n"
      ]
    },
    {
      "cell_type": "code",
      "metadata": {
        "id": "_GwnUx1jyFox",
        "colab_type": "code",
        "colab": {}
      },
      "source": [
        "fellowship = ['frodo', 'samwise', 'merry', 'pippin', 'aragorn', 'boromir', 'legolas', 'gimli', 'gandalf']\n",
        "result = filter(lambda a:len(a)>6, fellowship)\n",
        "result_list= list(result)\n",
        "print(result_list)"
      ],
      "execution_count": 0,
      "outputs": []
    },
    {
      "cell_type": "markdown",
      "metadata": {
        "id": "xRRLJr6SyQu1",
        "colab_type": "text"
      },
      "source": [
        "# Reduce() and lambda functions\n",
        "\n",
        "A função reduce() é útil para executar alguns cálculos em uma lista e, ao contrário de map() e filter(), retorna um único valor como resultado. Para usar o reduce(), você deve importá-lo do módulo functools."
      ]
    },
    {
      "cell_type": "code",
      "metadata": {
        "id": "Pp3TSPHfyQ6N",
        "colab_type": "code",
        "colab": {}
      },
      "source": [
        "from functools import reduce\n",
        "stark = ['robb', 'sansa', 'arya', 'brandon', 'rickon']\n",
        "result = reduce(lambda item1,item2:item1+item2, stark)\n",
        "print(result)"
      ],
      "execution_count": 0,
      "outputs": []
    },
    {
      "cell_type": "markdown",
      "metadata": {
        "id": "9iMoZY72ur8X",
        "colab_type": "text"
      },
      "source": [
        "# Iterating over iterables\n",
        "\n",
        "Um iterator é um objeto que contém um número contável de valores. É um objeto que pode ser iterado, o que significa que você pode percorrer todos os valores. Tecnicamente, no Python, um iterador é um objeto que implementa o protocolo do iterador, que consiste nos métodos __iter__() e __next__(). Lists, tuples, dictionaries, e sets são todos objetos iteráveis. São contêineres iteráveis dos quais você pode obter um iterador"
      ]
    },
    {
      "cell_type": "code",
      "metadata": {
        "id": "1fAbXJMqvwvX",
        "colab_type": "code",
        "colab": {}
      },
      "source": [
        "mystr = \"banana\"\n",
        "myit = iter(mystr)\n",
        "\n",
        "print(next(myit))\n",
        "print(next(myit))"
      ],
      "execution_count": 0,
      "outputs": []
    },
    {
      "cell_type": "markdown",
      "metadata": {
        "id": "7cEd8V19wIpO",
        "colab_type": "text"
      },
      "source": [
        "# Looping através de um Iterator\n",
        "\n",
        "Também podemos usar um loop for para iterar através de um objeto iterável. O loop for cria um objeto iterador e executa o método next () para cada passada."
      ]
    },
    {
      "cell_type": "code",
      "metadata": {
        "id": "hXsy3DYawHxg",
        "colab_type": "code",
        "colab": {}
      },
      "source": [
        "mytuple = (\"apple\", \"banana\", \"cherry\")\n",
        "for x in mytuple:\n",
        "  print(x)\n",
        "\n",
        "mystr = \"banana\"\n",
        "for x in mystr:\n",
        "  print(x)  "
      ],
      "execution_count": 0,
      "outputs": []
    },
    {
      "cell_type": "markdown",
      "metadata": {
        "id": "eVyKRmzawyV8",
        "colab_type": "text"
      },
      "source": [
        "# Create an Iterator\n",
        "\n",
        "Para criar um objeto / classe como um iterador, basta implementar os métodos __iter__() e __next__() no seu objeto.\n",
        "\n",
        "Como você sabe, todas as classes têm uma função chamada __init__(), que permite inicializar o objeto que está sendo criado. O método __iter__ () age de maneira semelhante, você pode executar operações (inicializando etc.), mas sempre deve retornar o próprio objeto iterador. O método __next__() também permite executar operações e deve retornar o próximo item na sequência.\n",
        "\n",
        "No exemplo a seguir,  criaremos um iterador que retorne números, começando com 1, e cada sequência aumentará em um (retornando 1,2,3,4,5 etc.)"
      ]
    },
    {
      "cell_type": "code",
      "metadata": {
        "id": "YXl16_POxfL4",
        "colab_type": "code",
        "colab": {}
      },
      "source": [
        "class MyNumbers:\n",
        "  def __iter__(self):\n",
        "    self.a = 1\n",
        "    return self\n",
        "\n",
        "  def __next__(self):\n",
        "    x = self.a\n",
        "    self.a += 1\n",
        "    return x\n",
        "\n",
        "myclass = MyNumbers()\n",
        "myiter = iter(myclass)\n",
        "\n",
        "print(next(myiter))\n",
        "print(next(myiter))\n",
        "print(next(myiter))\n",
        "print(next(myiter))\n",
        "print(next(myiter))"
      ],
      "execution_count": 0,
      "outputs": []
    },
    {
      "cell_type": "markdown",
      "metadata": {
        "id": "alwJXSIZ256Q",
        "colab_type": "text"
      },
      "source": [
        "#StopIteration\n",
        "\n",
        "O exemplo acima deve continuar para sempre. Para impedir que a iteração continue para sempre, podemos usar a instrução StopIteration.\n",
        "\n",
        "No método __next__(), podemos adicionar uma condição de finalização para gerar um erro se a iteração for feita um número especificado de vezes."
      ]
    },
    {
      "cell_type": "code",
      "metadata": {
        "id": "Zk7va_z426M1",
        "colab_type": "code",
        "colab": {}
      },
      "source": [
        "class MyNumbers:\n",
        "  def __iter__(self):\n",
        "    self.a = 1\n",
        "    return self\n",
        "\n",
        "  def __next__(self):\n",
        "    if self.a <= 20:\n",
        "      x = self.a\n",
        "      self.a += 1\n",
        "      return x\n",
        "    else:\n",
        "      raise StopIteration\n",
        "\n",
        "myclass = MyNumbers()\n",
        "myiter = iter(myclass)\n",
        "\n",
        "for x in myiter:\n",
        "  print(x)"
      ],
      "execution_count": 0,
      "outputs": []
    },
    {
      "cell_type": "markdown",
      "metadata": {
        "id": "vANNSwjJ5aSc",
        "colab_type": "text"
      },
      "source": [
        "# Iteradors como argumentos de função\n",
        "Você está usando a função iter() para obter um objeto iterador, bem como a função next() para recuperar os valores um a um do objeto iterador. Também existem funções que usam iteradores e iteráveis como argumentos. Por exemplo, as funções list() e sum() retornam uma lista e a soma dos elementos, respectivamente."
      ]
    },
    {
      "cell_type": "code",
      "metadata": {
        "id": "lmyjBZS05ac3",
        "colab_type": "code",
        "colab": {}
      },
      "source": [
        "values = range(10,20)\n",
        "print(values)\n",
        "values_list = list(values)\n",
        "print(values_list)\n",
        "values_sum = sum(values)\n",
        "print(values_sum)"
      ],
      "execution_count": 0,
      "outputs": []
    },
    {
      "cell_type": "markdown",
      "metadata": {
        "id": "D-89KMw86z8e",
        "colab_type": "text"
      },
      "source": [
        "# Enumerate\n",
        "\n",
        "A função enumerate () pega uma coleção (por exemplo, uma tupla) e a retorna como um objeto enumerado. Ela adiciona um contador como a chave do objeto enumerado."
      ]
    },
    {
      "cell_type": "code",
      "metadata": {
        "id": "dPkHW3Er60E-",
        "colab_type": "code",
        "colab": {}
      },
      "source": [
        "mutants = ['charles xavier', 'bobby drake', 'kurt wagner',  'max eisenhardt',  'kitty pryde']\n",
        "mutant_list = list(enumerate(mutants))\n",
        "print(mutant_list)\n",
        "for index1, value1 in enumerate(mutants):\n",
        "    print(index1, value1)\n",
        "print('\\n')\n",
        "for index2, value2 in enumerate(mutants, start=1):\n",
        "    print(index2, value2)"
      ],
      "execution_count": 0,
      "outputs": []
    },
    {
      "cell_type": "markdown",
      "metadata": {
        "id": "9Zl0dJeS-jfx",
        "colab_type": "text"
      },
      "source": [
        "# Zip\n",
        "\n",
        "Outra função interessante é a zip(), que pega qualquer número de iteráveis e retorna um objeto zip que é um iterador de tuplas. Se você quiser imprimir os valores de um objeto zip, poderá convertê-lo em uma lista e imprimi-lo. Imprimir apenas um objeto zip não retornará os valores, a menos que você o descompacte primeiro. "
      ]
    },
    {
      "cell_type": "code",
      "metadata": {
        "id": "3NXJwhJm-jzQ",
        "colab_type": "code",
        "colab": {
          "base_uri": "https://localhost:8080/",
          "height": 178
        },
        "outputId": "b6de91ba-1cf9-4211-ebfa-47bd7890241a"
      },
      "source": [
        "mutants = ['charles xavier', 'bobby drake', 'kurt wagner', 'max eisenhardt', 'kitty pryde']\n",
        "aliases = ['prof x', 'iceman', 'nightcrawler', 'magneto', 'shadowcat']\n",
        "powers = ['telepathy', 'thermokinesis', 'teleportation', 'magnetokinesis', 'intangibility']\n",
        "mutant_data = list(zip(mutants, aliases, powers))\n",
        "print(mutant_data)\n",
        "print('\\n')\n",
        "\n",
        "for value1, value2, value3 in zip(mutants, aliases, powers):\n",
        "    print(value1, '->', value2, '->', value3)"
      ],
      "execution_count": 31,
      "outputs": [
        {
          "output_type": "stream",
          "text": [
            "[('charles xavier', 'prof x', 'telepathy'), ('bobby drake', 'iceman', 'thermokinesis'), ('kurt wagner', 'nightcrawler', 'teleportation'), ('max eisenhardt', 'magneto', 'magnetokinesis'), ('kitty pryde', 'shadowcat', 'intangibility')]\n",
            "\n",
            "\n",
            "charles xavier -> prof x -> telepathy\n",
            "bobby drake -> iceman -> thermokinesis\n",
            "kurt wagner -> nightcrawler -> teleportation\n",
            "max eisenhardt -> magneto -> magnetokinesis\n",
            "kitty pryde -> shadowcat -> intangibility\n"
          ],
          "name": "stdout"
        }
      ]
    },
    {
      "cell_type": "markdown",
      "metadata": {
        "id": "c1J65JeCCGPA",
        "colab_type": "text"
      },
      "source": [
        "# Unzip\n",
        "\n",
        "Uma outra forma de iterar um objeto zip é utilizando o oerador * (star). Lembre-se que o objeto estará inutilizavel após o seu uso"
      ]
    },
    {
      "cell_type": "code",
      "metadata": {
        "id": "j4MG7RHrCGsR",
        "colab_type": "code",
        "colab": {
          "base_uri": "https://localhost:8080/",
          "height": 275
        },
        "outputId": "b0245680-6e6c-43a5-e765-5435653f4c39"
      },
      "source": [
        "mutants = ('charles xavier', 'bobby drake', 'kurt wagner', 'max eisenhardt', 'kitty pryde')\n",
        "powers = ('telepathy', 'thermokinesis', 'teleportation', 'magnetokinesis', 'intangibility')\n",
        "\n",
        "# Create a zip object from mutants and powers: z1\n",
        "z1 = zip(mutants, powers)\n",
        "\n",
        "# Print the tuples in z1 by unpacking with *\n",
        "print(*z1)\n",
        "\n",
        "# Re-create a zip object from mutants and powers: z1\n",
        "#z1 = zip(mutants, powers)\n",
        "\n",
        "# 'Unzip' the tuples in z1 by unpacking with * and zip(): result1, result2\n",
        "result1, result2 = zip(*z1)\n",
        "\n",
        "# Check if unpacked tuples are equivalent to original tuples\n",
        "print(result1 == mutants)\n",
        "print(result2 == powers)\n"
      ],
      "execution_count": 39,
      "outputs": [
        {
          "output_type": "stream",
          "text": [
            "('charles xavier', 'telepathy') ('bobby drake', 'thermokinesis') ('kurt wagner', 'teleportation') ('max eisenhardt', 'magnetokinesis') ('kitty pryde', 'intangibility')\n"
          ],
          "name": "stdout"
        },
        {
          "output_type": "error",
          "ename": "ValueError",
          "evalue": "ignored",
          "traceback": [
            "\u001b[0;31m---------------------------------------------------------------------------\u001b[0m",
            "\u001b[0;31mValueError\u001b[0m                                Traceback (most recent call last)",
            "\u001b[0;32m<ipython-input-39-df325d6ccf75>\u001b[0m in \u001b[0;36m<module>\u001b[0;34m()\u001b[0m\n\u001b[1;32m     12\u001b[0m \u001b[0;34m\u001b[0m\u001b[0m\n\u001b[1;32m     13\u001b[0m \u001b[0;31m# 'Unzip' the tuples in z1 by unpacking with * and zip(): result1, result2\u001b[0m\u001b[0;34m\u001b[0m\u001b[0;34m\u001b[0m\u001b[0;34m\u001b[0m\u001b[0m\n\u001b[0;32m---> 14\u001b[0;31m \u001b[0mresult1\u001b[0m\u001b[0;34m,\u001b[0m \u001b[0mresult2\u001b[0m \u001b[0;34m=\u001b[0m \u001b[0mzip\u001b[0m\u001b[0;34m(\u001b[0m\u001b[0;34m*\u001b[0m\u001b[0mz1\u001b[0m\u001b[0;34m)\u001b[0m\u001b[0;34m\u001b[0m\u001b[0;34m\u001b[0m\u001b[0m\n\u001b[0m\u001b[1;32m     15\u001b[0m \u001b[0;34m\u001b[0m\u001b[0m\n\u001b[1;32m     16\u001b[0m \u001b[0;31m# Check if unpacked tuples are equivalent to original tuples\u001b[0m\u001b[0;34m\u001b[0m\u001b[0;34m\u001b[0m\u001b[0;34m\u001b[0m\u001b[0m\n",
            "\u001b[0;31mValueError\u001b[0m: not enough values to unpack (expected 2, got 0)"
          ]
        }
      ]
    },
    {
      "cell_type": "markdown",
      "metadata": {
        "id": "ryGWB7tSy3vu",
        "colab_type": "text"
      },
      "source": [
        "# Error handling with try-except\n",
        "\n",
        "\n",
        "Uma boa prática para escrever suas próprias funções também é antecipar os erros pelos quais os usuários que usem a função possam passar. Uma maneira de fazer isso é através do tratamento de exceções com o bloco try-except."
      ]
    },
    {
      "cell_type": "code",
      "metadata": {
        "id": "GF_PKH90y26W",
        "colab_type": "code",
        "colab": {}
      },
      "source": [
        "def shout_echo(word1, echo=1):\n",
        "    \"\"\"Concatenate echo copies of word1 and three\n",
        "    exclamation marks at the end of the string.\"\"\"\n",
        "\n",
        "    echo_word = \"\"\n",
        "    shout_words = \"\"\n",
        "    try:\n",
        "        echo_word = word1*echo\n",
        "        shout_words = echo_word +\"!!!\"\n",
        "    except:\n",
        "        print(\"word1 must be a string and echo must be an integer.\")\n",
        "    return shout_words\n",
        "\n",
        "shout_echo(\"particle\", echo=\"accelerator\")"
      ],
      "execution_count": 0,
      "outputs": []
    },
    {
      "cell_type": "markdown",
      "metadata": {
        "id": "IDw2W_ipzxTy",
        "colab_type": "text"
      },
      "source": [
        "# Error handling by raising an error\n",
        "\n",
        "Voc~e também pode gerar uma excessão, caso alguma validacão necessária não seja atendida."
      ]
    },
    {
      "cell_type": "code",
      "metadata": {
        "id": "2cQOA55vzxdv",
        "colab_type": "code",
        "colab": {}
      },
      "source": [
        "def shout_echo(word1, echo=1):\n",
        "    \"\"\"Concatenate echo copies of word1 and three\n",
        "    exclamation marks at the end of the string.\"\"\"\n",
        "\n",
        "    try:\n",
        "      if echo < 0:\n",
        "        raise ValueError(\"echo must be greater than or equal to 0\")\n",
        "\n",
        "      echo_word = word1 * echo\n",
        "      shout_word = echo_word + '!!!'\n",
        "      return shout_words\n",
        "    except ValueError:\n",
        "        raise\n",
        "    except:\n",
        "        print(\"word1 must be a string and echo must be an integer.\")\n",
        "\n",
        "shout_echo(\"particle\", echo=\"accelerator\")\n",
        "shout_echo(\"particle\", echo=-1)"
      ],
      "execution_count": 0,
      "outputs": []
    },
    {
      "cell_type": "markdown",
      "metadata": {
        "id": "DkXhjPZ33ebD",
        "colab_type": "text"
      },
      "source": [
        "Isso é incrível! Agora você aprendeu como escrever funções anônimas usando lambda, como passar funções lambda como argumentos para outras funções como map(), filter() e reduce(), além de como escrever erros e gerar mensagens de erro personalizadas em suas funções. Agora você reunirá esses aprendizados para um bom uso, trabalhando com um conjunto de dados do Twitter. Antes de praticar suas novas habilidades de manipulação de erros, neste exercício, você escreverá uma função lambda e usar filter () para selecionar retweets, ou seja, tweets que começam com a string 'RT'"
      ]
    },
    {
      "cell_type": "code",
      "metadata": {
        "id": "8lBSVpk_3enD",
        "colab_type": "code",
        "colab": {}
      },
      "source": [
        "import pandas as pd\n",
        "\n",
        "tweets_df = pd.read_csv('https://raw.githubusercontent.com/Currie32/Tweet-Like-Trump/master/tweets.csv')\n",
        "\n",
        "result = filter(lambda x:x[0:2]==\"RT\", tweets_df[\"Tweet_Text\"])\n",
        "\n",
        "res_list = list(result)\n",
        "\n",
        "for tweet in res_list:\n",
        "    print(tweet)"
      ],
      "execution_count": 0,
      "outputs": []
    },
    {
      "cell_type": "markdown",
      "metadata": {
        "id": "bpOBl500D60Q",
        "colab_type": "text"
      },
      "source": [
        "Crie uma função, count_entries(), que itere os registros de um dataframe e conte as ocorrencias de uma dada coluna. O esqueleto e a chamada da função já estão prontos para voce. Coloque uma excessao na funcao caso uma coluna inexistente seja passada como parametro "
      ]
    },
    {
      "cell_type": "code",
      "metadata": {
        "id": "i1vHRYjw4JAf",
        "colab_type": "code",
        "colab": {}
      },
      "source": [
        "def count_entries(df, col_name='lang'):\n",
        "    #Imeplemente seu codigo aqui\n",
        "    return cols_count\n",
        "\n",
        "result1 = count_entries(tweets_df)\n",
        "#result1 = count_entries(tweets_df, 'Type')\n",
        "print(result1)    \n",
        "\n",
        "#Resultado esperado {'text': 6448, 'link': 925, 'video': 2}"
      ],
      "execution_count": 0,
      "outputs": []
    }
  ]
}