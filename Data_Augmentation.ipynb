{
  "nbformat": 4,
  "nbformat_minor": 0,
  "metadata": {
    "colab": {
      "name": "Data Augmentation.ipynb",
      "provenance": [],
      "authorship_tag": "ABX9TyMKi8rjoryoF7T2lCFRg5vq",
      "include_colab_link": true
    },
    "kernelspec": {
      "name": "python3",
      "display_name": "Python 3"
    }
  },
  "cells": [
    {
      "cell_type": "markdown",
      "metadata": {
        "id": "view-in-github",
        "colab_type": "text"
      },
      "source": [
        "<a href=\"https://colab.research.google.com/github/titocampos/estudo-crm/blob/master/Data_Augmentation.ipynb\" target=\"_parent\"><img src=\"https://colab.research.google.com/assets/colab-badge.svg\" alt=\"Open In Colab\"/></a>"
      ]
    },
    {
      "cell_type": "markdown",
      "metadata": {
        "id": "pUcvpYjRj0TQ",
        "colab_type": "text"
      },
      "source": [
        "# Data Augmentation\n",
        "\n",
        "Trabalhando em arquiteturas de redes neurais profundas nem sempre temos uma quantidade balanceada de exemplos para utilizar em treinamento. Com isso a distribuição dos dados se torna prejudicada e o modelo pode se tornar tendencioso, ou seja, o modelo funcionará melhor para a classe que contiver mais exemplos.\n",
        "\n",
        "Esse problema é observado não apenas nos conjuntos de dados de imagem, mas também em qualquer tipo de conjunto de dados. Pode ser um dado tabular, como o conjunto de dados do classificador de e-mail de spam, que possui amostras pertencentes a duas classes, spam / falso e original. Em uma situação de desequilíbrio de classe, o conjunto de dados pode ter milhares de amostras na classe de spam e apenas centenas de amostras na classe de email original. Com esse conjunto de dados, nenhum algoritmo de aprendizado de máquina poderia aprender. Técnicas como resampling, SMOTE são usadas para superar essa limitação.\n",
        "\n",
        "## Re-sampling\n",
        "\n",
        "A re-amostragem é uma técnica muito utilizada para resolver o problema de distorção de classe em dados tabulares. Utilizando, subamostra ou superamostra dos dados disponíveis para atender aos requisitos de distribuição de classes.\n",
        "\n",
        "Vamos criar um conjunto de dados sintético com 1000 amostras com duas classes e dois recursos. 95% na classe 0 e 5% na classe 1."
      ]
    },
    {
      "cell_type": "code",
      "metadata": {
        "id": "8R33I_-8jyM3",
        "colab_type": "code",
        "colab": {}
      },
      "source": [
        "# Importando bibliotecas\n",
        "from sklearn.datasets import make_classification\n",
        "import numpy as np\n",
        "from sklearn.utils import resample\n",
        "\n",
        "n_samples = 1000\n",
        "weights = (0.95, 0.05)\n",
        "\n",
        "# Criando o dataset com 1000 exemplos\n",
        "X, y = make_classification(n_samples = n_samples, n_features = 2, n_redundant = 0, weights = weights, random_state = 1000)\n",
        "\n",
        "# Re-sampling\n",
        "X_1_resampled = resample(X[y == 1], n_samples = X[y == 0].shape[0], random_state = 1000) #Up-smapling \n",
        "\n",
        "#Concatenando datasets.\n",
        "Xu = np.concatenate ((X[y == 0], X_1_resampled))\n",
        "yu = np.concatenate ((y[y == 0], np.ones(shape = (X[y ==0].shape[0]), dtype = np.int32)))"
      ],
      "execution_count": 0,
      "outputs": []
    },
    {
      "cell_type": "markdown",
      "metadata": {
        "id": "5ECMHlv50lOC",
        "colab_type": "text"
      },
      "source": [
        "E, finalmente, temos Xu com amostras de número igual na classe 0 (Xu[yu == 0]) e na classe 1 (Xu [yu == 1])."
      ]
    },
    {
      "cell_type": "code",
      "metadata": {
        "id": "qD4_gH3T0lYr",
        "colab_type": "code",
        "colab": {
          "base_uri": "https://localhost:8080/",
          "height": 34
        },
        "outputId": "c9e155b3-745a-4e37-e3f5-75f9da38a981"
      },
      "source": [
        "print(Xu[yu == 0].shape, Xu[yu == 1].shape)"
      ],
      "execution_count": 22,
      "outputs": [
        {
          "output_type": "stream",
          "text": [
            "(946, 2) (946, 2)\n"
          ],
          "name": "stdout"
        }
      ]
    },
    {
      "cell_type": "markdown",
      "metadata": {
        "id": "fGdHn2xI2Er6",
        "colab_type": "text"
      },
      "source": [
        "## SMOTE\n",
        "\n",
        "SMOTE (Synthetic Minority Over-sampling TEchnique) é um outro método para resolver o problema de distorção de classe. Diferentemente das técnicas de re-amostragem, os dados disponíveis não são reutilizados aqui. Em vez disso, novas amostras de dados sintéticos são geradas usando o relacionamento entre as amostras.\n",
        "\n",
        "Usaremos os mesmos dados desbalanceados (X, y) anteriores para obter um conjunto de dados resolvido."
      ]
    },
    {
      "cell_type": "code",
      "metadata": {
        "id": "0d2zAf7T5T8B",
        "colab_type": "code",
        "colab": {
          "base_uri": "https://localhost:8080/",
          "height": 139
        },
        "outputId": "1167ac55-54d1-48b4-8854-144fdcf34028"
      },
      "source": [
        "from imblearn.over_sampling import SMOTE\n",
        "smote = SMOTE(random_state = 1000)\n",
        "X_resampled, y_resampled = smote.fit_sample(X, y)"
      ],
      "execution_count": 18,
      "outputs": [
        {
          "output_type": "stream",
          "text": [
            "/usr/local/lib/python3.6/dist-packages/sklearn/externals/six.py:31: FutureWarning: The module is deprecated in version 0.21 and will be removed in version 0.23 since we've dropped support for Python 2.7. Please rely on the official version of six (https://pypi.org/project/six/).\n",
            "  \"(https://pypi.org/project/six/).\", FutureWarning)\n",
            "/usr/local/lib/python3.6/dist-packages/sklearn/utils/deprecation.py:144: FutureWarning: The sklearn.neighbors.base module is  deprecated in version 0.22 and will be removed in version 0.24. The corresponding classes / functions should instead be imported from sklearn.neighbors. Anything that cannot be imported from sklearn.neighbors is now part of the private API.\n",
            "  warnings.warn(message, FutureWarning)\n",
            "/usr/local/lib/python3.6/dist-packages/sklearn/utils/deprecation.py:87: FutureWarning: Function safe_indexing is deprecated; safe_indexing is deprecated in version 0.22 and will be removed in version 0.24.\n",
            "  warnings.warn(msg, category=FutureWarning)\n"
          ],
          "name": "stderr"
        }
      ]
    },
    {
      "cell_type": "code",
      "metadata": {
        "id": "doAHWPaC5iLo",
        "colab_type": "code",
        "colab": {
          "base_uri": "https://localhost:8080/",
          "height": 34
        },
        "outputId": "91236f15-684f-47cf-d488-b6007745f818"
      },
      "source": [
        "print(X_resampled[y_resampled == 0].shape, X_resampled[y_resampled == 1].shape)"
      ],
      "execution_count": 23,
      "outputs": [
        {
          "output_type": "stream",
          "text": [
            "(946, 2) (946, 2)\n"
          ],
          "name": "stdout"
        }
      ]
    },
    {
      "cell_type": "markdown",
      "metadata": {
        "id": "3Hbo9yIH6eUT",
        "colab_type": "text"
      },
      "source": [
        "## Imagens\n",
        "\n",
        "No caso de imagens de uma unica imagem obtemos varias outras, aplicamos algumas técnicas de transformação, tais como, deslocamento à direita, deslocamento à esquerda e zoom. Versões transformadas de imagens no conjunto de dados de treinamento que pertencem à mesma classe que a imagem original são criadas neste processo."
      ]
    }
  ]
}