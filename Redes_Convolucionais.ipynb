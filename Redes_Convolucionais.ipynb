{
  "nbformat": 4,
  "nbformat_minor": 0,
  "metadata": {
    "colab": {
      "name": "Redes Convolucionais",
      "provenance": [],
      "authorship_tag": "ABX9TyPoql7yRvhdtteAXYiwtPof",
      "include_colab_link": true
    },
    "kernelspec": {
      "name": "python3",
      "display_name": "Python 3"
    }
  },
  "cells": [
    {
      "cell_type": "markdown",
      "metadata": {
        "id": "view-in-github",
        "colab_type": "text"
      },
      "source": [
        "<a href=\"https://colab.research.google.com/github/titocampos/estudo-crm/blob/master/Redes_Convolucionais.ipynb\" target=\"_parent\"><img src=\"https://colab.research.google.com/assets/colab-badge.svg\" alt=\"Open In Colab\"/></a>"
      ]
    },
    {
      "cell_type": "markdown",
      "metadata": {
        "id": "cV5jzq_-hx0v",
        "colab_type": "text"
      },
      "source": [
        "# Convolução\n",
        "Em matemática a mistura de duas funcões é casualmente chamada de convolução. No aprendizado de máquina, uma convolução mistura o filtro convolucional e a matriz de entrada para treinar pesos.\n",
        "\n",
        "O termo \"convolução\" no aprendizado de máquina geralmente é uma maneira abreviada de se referir à operação convolucional ou à camada convolucional.\n",
        "\n",
        "Sem convoluções, um algoritmo de aprendizado de máquina teria que aprender um peso separado para cada célula em um tensor grande. Por exemplo, o aprendizado de máquina em imagens 2000x2000 pixel seria forçado a encontrar 4 milhoes de pesos separados. Graças às convoluções, um algoritmo de aprendizado de máquina precisa apenas encontrar pesos para cada célula no filtro convolucional, reduzindo drasticamente a memória necessária para treinar o modelo. Quando o filtro convolucional é aplicado, ele é simplesmente replicado nas células, de modo que cada uma é multiplicada pelo filtro."
      ]
    },
    {
      "cell_type": "markdown",
      "metadata": {
        "id": "GOgLr44hjHU4",
        "colab_type": "text"
      },
      "source": [
        "## Filtro convolucional\n",
        "\n",
        "Um dos atores em uma operação convolucional é o filtro convulacional, o  outro ator é uma fatia de uma matriz de entrada. Um filtro convolucional é uma matriz com a mesma classificação que a matriz de entrada, mas com uma forma menor. Por exemplo, dada uma matriz de entrada 28x28, o filtro pode ser qualquer matriz 2D menor que 28x28.\n",
        "\n",
        "Na manipulação fotográfica, todas as células em um filtro convolucional são tipicamente definidas para um padrão constante de uns e zeros. No aprendizado de máquina, os filtros convolucionais geralmente são semeados com números aleatórios e, em seguida, a rede treina os valores ideais."
      ]
    },
    {
      "cell_type": "markdown",
      "metadata": {
        "id": "WrTxe7wCkzaF",
        "colab_type": "text"
      },
      "source": [
        "## Operação convolucional\n",
        "\n",
        "É a multiplicação entre todos os elementos do filtro convolucional e uma fatia da matriz de entrada. A fatia da matriz de entrada deve ter o mesmo tamanho que o filtro convolucional.\n",
        "Soma-se todos os valores resultantes da multiplicacao entre o filtro convolucional e a fatia da matriz de entrada, como no exemplo a matriz 5x5 e o filtro 3x3 indicados gerariam as seguintes operações.\n",
        "\n",
        "\n",
        "```\n",
        " Matriz = [[128, 97, 53, 201, 198],           Filtro = [[0, 1, 0],       \n",
        "           [35, 22, 25, 200, 195],                      [1, 0, 1],       \n",
        "           [37, 24, 28, 197, 182],                      [0, 1, 0]]\n",
        "           [33, 28, 92, 195, 179],\n",
        "           [31, 40, 100, 192, 177]]\n",
        "```\n",
        "Resulta em:\n",
        "```\n",
        "Rst=[[128*0 + 97*1 + 53*0 + 35*1 + 22*0 + 25*1 + 37*0 + 24*1 + 28*0],       #181\n",
        "     [97*0 + 53*1 + 201*0 + 22*1 + 25*0 + 200*1 + 24*0 + 28*1 + 197*0],     #303\n",
        "     [53*0 + 201*1 + 198*0 + 25*1 + 200*0 + 195*1 + 28*0 + 197*1 + 182*0],  #618\n",
        "     [35*0 + 22*1 + 25*0 + 37*1 + 24*0 + 28*1 + 33*0 + 28*1 + 92*0],        #115\n",
        "     [22*0 + 25*1 + 200*0 + 24*1 + 28*0 + 197*1 + 28*0 + 92*1 + 195*0],     #338\n",
        "     [25*0 + 200*1 + 195*0 + 28*1 + 197*0 + 182*1 + 92*0 + 195*1 + 179*0],  #605\n",
        "     [37*0 + 24*1 + 28*0 + 33*1 + 28*0 + 92*1 + 31*0 + 40*1 + 100*0],       #189\n",
        "     [24*0 + 28*1 + 197*0 + 28*1 + 92*0 + 195*1 + 40*0 + 100*1 + 192*0],    #351\n",
        "     [28*0 + 197*1 + 182*0 + 92*1 + 195*0 + 179*1 + 100*0 + 192*1 + 177*0]] #660\n",
        "```\n",
        "\n",
        "Em python seria algo como:\n",
        "\n"
      ]
    },
    {
      "cell_type": "code",
      "metadata": {
        "id": "MW8HyFfZILN1",
        "colab_type": "code",
        "outputId": "35bc677d-43c1-402d-9884-d90170f93874",
        "colab": {
          "base_uri": "https://localhost:8080/",
          "height": 1000
        }
      },
      "source": [
        "import numpy as np\n",
        "\n",
        "matriz = np.array([[128, 97, 53, 201, 198],           \n",
        "                   [35, 22, 25, 200, 195],                      \n",
        "                   [37, 24, 28, 197, 182],                      \n",
        "                   [33, 28, 92, 195, 179],\n",
        "                   [31, 40, 100, 192, 177]])\n",
        "\n",
        "filtro = np.array([[0, 1, 0],                  \n",
        "                   [1, 0, 1],       \n",
        "                   [0, 1, 0]])\n",
        "\n",
        "for x in range(matriz.shape[0] - (filtro.shape[0] -1) ):\n",
        "  for y in range(matriz.shape[1] - (filtro.shape[1] -1) ):\n",
        "    for x1 in range(matriz.shape[0] - (filtro.shape[0] -1) ):\n",
        "      for y1 in range(matriz.shape[1] - (filtro.shape[1] -1) ):\n",
        "        print(matriz[x+x1, y+y1], filtro[x, y], matriz[x+x1, y+y1] * filtro[x, y])\n"
      ],
      "execution_count": 0,
      "outputs": [
        {
          "output_type": "stream",
          "text": [
            "128 0 0\n",
            "97 0 0\n",
            "53 0 0\n",
            "35 0 0\n",
            "22 0 0\n",
            "25 0 0\n",
            "37 0 0\n",
            "24 0 0\n",
            "28 0 0\n",
            "97 1 97\n",
            "53 1 53\n",
            "201 1 201\n",
            "22 1 22\n",
            "25 1 25\n",
            "200 1 200\n",
            "24 1 24\n",
            "28 1 28\n",
            "197 1 197\n",
            "53 0 0\n",
            "201 0 0\n",
            "198 0 0\n",
            "25 0 0\n",
            "200 0 0\n",
            "195 0 0\n",
            "28 0 0\n",
            "197 0 0\n",
            "182 0 0\n",
            "35 1 35\n",
            "22 1 22\n",
            "25 1 25\n",
            "37 1 37\n",
            "24 1 24\n",
            "28 1 28\n",
            "33 1 33\n",
            "28 1 28\n",
            "92 1 92\n",
            "22 0 0\n",
            "25 0 0\n",
            "200 0 0\n",
            "24 0 0\n",
            "28 0 0\n",
            "197 0 0\n",
            "28 0 0\n",
            "92 0 0\n",
            "195 0 0\n",
            "25 1 25\n",
            "200 1 200\n",
            "195 1 195\n",
            "28 1 28\n",
            "197 1 197\n",
            "182 1 182\n",
            "92 1 92\n",
            "195 1 195\n",
            "179 1 179\n",
            "37 0 0\n",
            "24 0 0\n",
            "28 0 0\n",
            "33 0 0\n",
            "28 0 0\n",
            "92 0 0\n",
            "31 0 0\n",
            "40 0 0\n",
            "100 0 0\n",
            "24 1 24\n",
            "28 1 28\n",
            "197 1 197\n",
            "28 1 28\n",
            "92 1 92\n",
            "195 1 195\n",
            "40 1 40\n",
            "100 1 100\n",
            "192 1 192\n",
            "28 0 0\n",
            "197 0 0\n",
            "182 0 0\n",
            "92 0 0\n",
            "195 0 0\n",
            "179 0 0\n",
            "100 0 0\n",
            "192 0 0\n",
            "177 0 0\n"
          ],
          "name": "stdout"
        }
      ]
    },
    {
      "cell_type": "markdown",
      "metadata": {
        "id": "y0DVcIu-kH8Z",
        "colab_type": "text"
      },
      "source": [
        "## Rede neural convolucional\n",
        "\n",
        "É uma rede neural na qual pelo menos uma das camadas é uma camada convolucional. Uma rede neural convolucional típica consiste em alguma combinação das seguintes camadas:\n",
        "\n",
        "- camadas convolucionais\n",
        "- camadas de pooling\n",
        "- camadas densas\n",
        "\n",
        "São muito utilizadas nos problemas relacionados a visão computacional."
      ]
    },
    {
      "cell_type": "code",
      "metadata": {
        "id": "8UdTdmALhtph",
        "colab_type": "code",
        "colab": {}
      },
      "source": [
        ""
      ],
      "execution_count": 0,
      "outputs": []
    },
    {
      "cell_type": "code",
      "metadata": {
        "id": "DaDmhOf7hxfI",
        "colab_type": "code",
        "outputId": "f64d6a26-5599-4036-bfdb-7f995afc4faf",
        "colab": {
          "base_uri": "https://localhost:8080/",
          "height": 34
        }
      },
      "source": [
        "Matriz = [[128, 97, 53, 201, 198],\n",
        "          [35, 22, 25, 200, 195],\n",
        "          [37, 24, 28, 197, 182],\n",
        "          [33, 28, 92, 195, 179],\n",
        "          [31, 40, 100, 192, 177]]\n",
        "\n",
        "print (Matriz)\n",
        "\n"
      ],
      "execution_count": 0,
      "outputs": [
        {
          "output_type": "stream",
          "text": [
            "[[128, 97, 53, 201, 198], [35, 22, 25, 200, 195], [37, 24, 28, 197, 182], [33, 28, 92, 195, 179], [31, 40, 100, 192, 177]]\n"
          ],
          "name": "stdout"
        }
      ]
    }
  ]
}