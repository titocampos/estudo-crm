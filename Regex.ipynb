{
 "cells": [
  {
   "cell_type": "markdown",
   "metadata": {},
   "source": [
    "- source https://levelup.gitconnected.com/read-this-if-you-dont-know-enough-about-regex-73141bb0e1a7\n",
    "- source https://cheatography.com/davechild/cheat-sheets/regular-expressions/pdf/\n",
    "- source https://regex101.com/\n",
    "\n",
    "#### Busca simples\n",
    "```\n",
    "bar        procura primeira string que contém bar\n",
    "^bar       procura primeira string que inicia com bar\n",
    "bar$       procura primeira string que termina com bar\n",
    "^foo bar$  procura exatamente a primeira string foo bar\n",
    "```\n",
    "O comando de busca deve ser aberto e fechado pelo caracter ```/```. Exemplo: /bar/ - busca pelo primeiro bar na string\n",
    "\n",
    "#### Flags\n",
    "```\n",
    "g          global, encontra todas as ocorrências\n",
    "i          procura sem distinção entre maiúsculas e minúsculas\n",
    "m          multi linhas, \"^\" e \"$\" coincide com o início e o fim da linha\n",
    "```\n",
    "Os flags devem ser colocados após o caracter de fechamento. Exemplo: /bar/g - busca por todos os bar na string\n",
    "\n",
    "#### Classes\n",
    "```\n",
    "\\w         caracteres alfanumericos e sobrelinha\n",
    "\\d         dígitos numericos\n",
    "\\s         espaço, tab, newline\n",
    "Inverso\n",
    "\\W         não caracteres alfanumericos e sobrelinha\n",
    "\\D         não dígitos\n",
    "\\S         não espaço, tab, newline\n",
    "```\n",
    "As classes fazem parte da string de busca. Exemplo: /\\d/g - busca apenas os digitos na string\n",
    "\n",
    "#### Quantificadores\n",
    "```\n",
    "a?         corresponde a um caracter `a` ou nada\n",
    "a*         corresponde a zero ou mais caracteres `a` consecutivos\n",
    "a+         corresponde a um ou mais caracteres `a` consecutivos\n",
    "a{2}       corresponde exatamente a 2 caracteres `a` consecutivos\n",
    "a{2,4}     corresponde entre 2 e 4 caracteres `a` consecutivos\n",
    "a{2,}      corresponde a pelo menos 2 caracteres `a` consecutivos\n",
    "```\n",
    "As quantificadores também fazem parte da string de busca. Exemplo: /\\ba{2}/g - busca por todos os baa na string\n",
    "\n",
    "#### Especiais\n",
    "Os seguintes caracteres especiais devem ser escapados ```[ \\ ^ $ . | ? * + ( )``` com o caracter ```\\```, quando fizerem parte da string de busca."
   ]
  },
  {
   "cell_type": "markdown",
   "metadata": {},
   "source": []
  }
 ],
 "metadata": {
  "kernelspec": {
   "display_name": "Python 3.7.6 64-bit",
   "language": "python",
   "name": "python37664bited7096ff99d146ed8194366e38a4de78"
  },
  "language_info": {
   "codemirror_mode": {
    "name": "ipython",
    "version": 3
   },
   "file_extension": ".py",
   "mimetype": "text/x-python",
   "name": "python",
   "nbconvert_exporter": "python",
   "pygments_lexer": "ipython3",
   "version": "3.7.6"
  }
 },
 "nbformat": 4,
 "nbformat_minor": 4
}
