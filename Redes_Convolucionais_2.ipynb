{
  "nbformat": 4,
  "nbformat_minor": 0,
  "metadata": {
    "colab": {
      "name": "Redes Convolucionais 2",
      "provenance": [],
      "authorship_tag": "ABX9TyMt5GULgS3GoGjnTFkXK4zE",
      "include_colab_link": true
    },
    "kernelspec": {
      "name": "python3",
      "display_name": "Python 3"
    }
  },
  "cells": [
    {
      "cell_type": "markdown",
      "metadata": {
        "id": "view-in-github",
        "colab_type": "text"
      },
      "source": [
        "<a href=\"https://colab.research.google.com/github/titocampos/estudo-crm/blob/master/Redes_Convolucionais_2.ipynb\" target=\"_parent\"><img src=\"https://colab.research.google.com/assets/colab-badge.svg\" alt=\"Open In Colab\"/></a>"
      ]
    },
    {
      "cell_type": "markdown",
      "metadata": {
        "id": "ZTqrcAI7vYim",
        "colab_type": "text"
      },
      "source": [
        "#Aviso Legal\n",
        "Este script sobre detecção automática de COVID-19 é apenas para fins educacionais. Não se destina a ser um sistema de diagnóstico confiável e altamente preciso do COVID-19, nem foi avaliado profissional ou academicamente.\n",
        "\n",
        "Baseado no blog: https://www.pyimagesearch.com/2020/03/16/detecting-covid-19-in-x-ray-images-with-keras-tensorflow-and-deep-learning/?__s=uwyrtqrb1sbk1eht5hsk "
      ]
    },
    {
      "cell_type": "markdown",
      "metadata": {
        "id": "FxpEdSh8xUqs",
        "colab_type": "text"
      },
      "source": [
        "Importando os pacotes necessários"
      ]
    },
    {
      "cell_type": "code",
      "metadata": {
        "id": "UJqxwXjGvUyC",
        "colab_type": "code",
        "outputId": "ea7bc101-f68c-4a60-bcec-75ef6ef536a5",
        "colab": {
          "base_uri": "https://localhost:8080/",
          "height": 34
        }
      },
      "source": [
        "%tensorflow_version 2.x\n",
        "from tensorflow.keras.preprocessing.image import ImageDataGenerator\n",
        "from tensorflow.keras.applications import VGG16\n",
        "from tensorflow.keras.layers import AveragePooling2D\n",
        "from tensorflow.keras.layers import Dropout\n",
        "from tensorflow.keras.layers import Flatten\n",
        "from tensorflow.keras.layers import Dense\n",
        "from tensorflow.keras.layers import Input\n",
        "from tensorflow.keras.models import Model\n",
        "from tensorflow.keras.optimizers import Adam\n",
        "from tensorflow.keras.utils import to_categorical\n",
        "from sklearn.preprocessing import LabelBinarizer\n",
        "from sklearn.model_selection import train_test_split\n",
        "from sklearn.metrics import classification_report\n",
        "from sklearn.metrics import confusion_matrix\n",
        "from imutils import paths\n",
        "import matplotlib.pyplot as plt\n",
        "import numpy as np\n",
        "import argparse\n",
        "import cv2\n",
        "import os"
      ],
      "execution_count": 0,
      "outputs": [
        {
          "output_type": "stream",
          "text": [
            "TensorFlow 2.x selected.\n"
          ],
          "name": "stdout"
        }
      ]
    },
    {
      "cell_type": "markdown",
      "metadata": {
        "id": "ca2GnXyM3MUf",
        "colab_type": "text"
      },
      "source": [
        "Inicialize o taxa de apendizado, o numero de épocas e o tamanho do lote"
      ]
    },
    {
      "cell_type": "code",
      "metadata": {
        "id": "ay-mX6-L3Me1",
        "colab_type": "code",
        "colab": {}
      },
      "source": [
        "INIT_LR = 1e-3\n",
        "EPOCHS = 25\n",
        "BS = 8"
      ],
      "execution_count": 0,
      "outputs": []
    },
    {
      "cell_type": "markdown",
      "metadata": {
        "id": "dn7DRrnC30Sc",
        "colab_type": "text"
      },
      "source": [
        "![alt text](https://)"
      ]
    },
    {
      "cell_type": "code",
      "metadata": {
        "id": "Lstrno-Z30ad",
        "colab_type": "code",
        "colab": {}
      },
      "source": [
        "\n",
        "print(\"[INFO] loading images...\")\n",
        "imagePaths = list(paths.list_images(\"./dataset\"))\n",
        "data = []\n",
        "labels = []\n",
        "\n",
        "for imagePath in imagePaths:\n",
        "\t# Extrair o rótulo da classe do nome do arquivo\n",
        "\tlabel = imagePath.split(os.path.sep)[-2]\n",
        "\t# Carregue a imagem, troque canais de cores e redimensione-a para 224pxx224px, ignorando a proporção\n",
        "\timage = cv2.imread(imagePath)\n",
        "\timage = cv2.cvtColor(image, cv2.COLOR_BGR2RGB)\n",
        "\timage = cv2.resize(image, (224, 224))\n",
        "\t# update the data and labels lists, respectively\n",
        "\tdata.append(image)\n",
        "\tlabels.append(label)\n",
        "# convert the data and labels to NumPy arrays while scaling the pixel\n",
        "# intensities to the range [0, 1]\n",
        "data = np.array(data) / 255.0\n",
        "labels = np.array(labels)"
      ],
      "execution_count": 0,
      "outputs": []
    }
  ]
}