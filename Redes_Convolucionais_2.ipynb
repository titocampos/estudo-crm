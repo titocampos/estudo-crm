{
  "nbformat": 4,
  "nbformat_minor": 0,
  "metadata": {
    "colab": {
      "name": "Redes Convolucionais 2",
      "provenance": [],
      "authorship_tag": "ABX9TyOaeg7t5rqlrmNzpgF9jo/x",
      "include_colab_link": true
    },
    "kernelspec": {
      "name": "python3",
      "display_name": "Python 3"
    },
    "accelerator": "GPU"
  },
  "cells": [
    {
      "cell_type": "markdown",
      "metadata": {
        "id": "view-in-github",
        "colab_type": "text"
      },
      "source": [
        "<a href=\"https://colab.research.google.com/github/titocampos/estudo-crm/blob/master/Redes_Convolucionais_2.ipynb\" target=\"_parent\"><img src=\"https://colab.research.google.com/assets/colab-badge.svg\" alt=\"Open In Colab\"/></a>"
      ]
    },
    {
      "cell_type": "markdown",
      "metadata": {
        "id": "ZTqrcAI7vYim",
        "colab_type": "text"
      },
      "source": [
        "#Aviso Legal\n",
        "Este script sobre detecção automática de COVID-19 é apenas para fins educacionais. Não se destina a ser um sistema de diagnóstico confiável e altamente preciso do COVID-19, nem foi avaliado profissional ou academicamente.\n",
        "\n",
        "Baseado no blog: https://www.pyimagesearch.com/2020/03/16/detecting-covid-19-in-x-ray-images-with-keras-tensorflow-and-deep-learning/?__s=uwyrtqrb1sbk1eht5hsk "
      ]
    },
    {
      "cell_type": "markdown",
      "metadata": {
        "id": "FxpEdSh8xUqs",
        "colab_type": "text"
      },
      "source": [
        "Importando os pacotes necessários"
      ]
    },
    {
      "cell_type": "code",
      "metadata": {
        "id": "UJqxwXjGvUyC",
        "colab_type": "code",
        "outputId": "a7c7a6bc-154d-4182-9ffd-d09044b7a1bc",
        "colab": {
          "base_uri": "https://localhost:8080/",
          "height": 34
        }
      },
      "source": [
        "%tensorflow_version 2.x\n",
        "from tensorflow.keras.preprocessing.image import ImageDataGenerator\n",
        "from tensorflow.keras.applications import VGG16\n",
        "from tensorflow.keras.layers import AveragePooling2D\n",
        "from tensorflow.keras.layers import Dropout\n",
        "from tensorflow.keras.layers import Flatten\n",
        "from tensorflow.keras.layers import Dense\n",
        "from tensorflow.keras.layers import Input\n",
        "from tensorflow.keras.models import Model\n",
        "from tensorflow.keras.optimizers import Adam\n",
        "from tensorflow.keras.utils import to_categorical\n",
        "from sklearn.preprocessing import LabelBinarizer\n",
        "from sklearn.model_selection import train_test_split\n",
        "from sklearn.metrics import classification_report\n",
        "from sklearn.metrics import confusion_matrix\n",
        "from imutils import paths\n",
        "import matplotlib.pyplot as plt\n",
        "import numpy as np\n",
        "import argparse\n",
        "import cv2\n",
        "import os"
      ],
      "execution_count": 1,
      "outputs": [
        {
          "output_type": "stream",
          "text": [
            "TensorFlow 2.x selected.\n"
          ],
          "name": "stdout"
        }
      ]
    },
    {
      "cell_type": "markdown",
      "metadata": {
        "id": "ca2GnXyM3MUf",
        "colab_type": "text"
      },
      "source": [
        "Inicialize o taxa de apendizado, o numero de épocas e o tamanho do lote"
      ]
    },
    {
      "cell_type": "code",
      "metadata": {
        "id": "ay-mX6-L3Me1",
        "colab_type": "code",
        "colab": {}
      },
      "source": [
        "INIT_LR = 1e-3\n",
        "EPOCHS = 25\n",
        "BS = 8"
      ],
      "execution_count": 0,
      "outputs": []
    },
    {
      "cell_type": "markdown",
      "metadata": {
        "id": "dn7DRrnC30Sc",
        "colab_type": "text"
      },
      "source": [
        "Baixando o dataset de exemplo"
      ]
    },
    {
      "cell_type": "code",
      "metadata": {
        "id": "iLFGALaTIWPY",
        "colab_type": "code",
        "colab": {}
      },
      "source": [
        "!wget https://raw.githubusercontent.com/titocampos/estudo-crm/master/datasets/covid-19.zip;\n",
        "!unzip ./covid-19.zip;\n",
        "!rm -f ./covid-19.zip;"
      ],
      "execution_count": 0,
      "outputs": []
    },
    {
      "cell_type": "markdown",
      "metadata": {
        "id": "h55kG5kWLuSs",
        "colab_type": "text"
      },
      "source": [
        "Para carregar nossos dados, pegamos todos os caminhos para as imagens no \n",
        "diretório do conjunto de dados. Então, para cada imagem vamos:\n",
        "  - Extrair o rótulo da classe (covid ou normal).\n",
        "  - Carregar a imagem e pré-processá-la convertendo para RGB e redimensionando-a para 224×224 pixels.\n",
        "  - Atualizar nossas listas de dados e rotulos.\n",
        "  - Escalonar as intensidades de pixel para o intervalo [0, 1] e converter nossos dados e rótulos para o formato de matriz NumPy."
      ]
    },
    {
      "cell_type": "code",
      "metadata": {
        "id": "Lstrno-Z30ad",
        "colab_type": "code",
        "colab": {}
      },
      "source": [
        "imagePaths = list(paths.list_images(\"./dataset\"))\n",
        "data = []\n",
        "labels = []\n",
        "\n",
        "for imagePath in imagePaths:\n",
        "\t# Extrair o rótulo da classe do nome do arquivo\n",
        "\tlabel = imagePath.split(os.path.sep)[-2]\n",
        "\t# Carregue a imagem, troque canais de cores e redimensione-a para 224pxx224px, ignorando a proporção\n",
        "\timage = cv2.imread(imagePath)\n",
        "\timage = cv2.cvtColor(image, cv2.COLOR_BGR2RGB)\n",
        "\timage = cv2.resize(image, (224, 224))\n",
        "\t# atualizar as listas de dados e rótulos, respectivamente\n",
        "\tdata.append(image)\n",
        "\tlabels.append(label)\n",
        "# Convert dados e rotulos para NumPy arrays, enquanto dimensiona as intensidades de pixel para o intervalo [0, 1]\n",
        "data = np.array(data) / 255.0\n",
        "labels = np.array(labels)"
      ],
      "execution_count": 0,
      "outputs": []
    },
    {
      "cell_type": "markdown",
      "metadata": {
        "id": "iKrIeh0yM9c7",
        "colab_type": "text"
      },
      "source": [
        "Em seguida, codificaremos nossos rótulos de maneira única e criaremos nossas divisões de treinamento / teste.\n",
        "\n",
        "Para garantir a generalização do nosso modelo, realizamos \"data augmentation\" definindo a rotação aleatória da imagem em 15 graus no sentido horário ou anti-horário."
      ]
    },
    {
      "cell_type": "code",
      "metadata": {
        "id": "Limhn2JUNPs_",
        "colab_type": "code",
        "colab": {}
      },
      "source": [
        "# One-hot encoding\n",
        "lb = LabelBinarizer()\n",
        "labels = lb.fit_transform(labels)\n",
        "labels = to_categorical(labels); \n",
        "\n",
        "# Divisão do dataset em treinamento e teste, usando  80% para treinamento\n",
        "(trainX, testX, trainY, testY) = train_test_split(data, labels,\ttest_size=0.20, stratify=labels, random_state=42)\n",
        "\n",
        "# Data augmentation object\n",
        "trainAug = ImageDataGenerator(rotation_range=15, fill_mode=\"nearest\")"
      ],
      "execution_count": 0,
      "outputs": []
    },
    {
      "cell_type": "markdown",
      "metadata": {
        "id": "Q-iBUX1DO1tu",
        "colab_type": "text"
      },
      "source": [
        "A partir daqui, inicializaremos nosso modelo VGGNet e o configuraremos para transfer learning."
      ]
    },
    {
      "cell_type": "code",
      "metadata": {
        "id": "V7-4tbXTPAeZ",
        "colab_type": "code",
        "colab": {}
      },
      "source": [
        "# Carrega a rede VGG16, garantindo que a ultima camada seja deixados de fora\n",
        "baseModel = VGG16(weights=\"imagenet\", include_top=False, input_tensor=Input(shape=(224, 224, 3)))\n",
        "# Construimos nosso modelo de cassificação\n",
        "headModel = baseModel.output\n",
        "headModel = AveragePooling2D(pool_size=(4, 4))(headModel)\n",
        "headModel = Flatten(name=\"flatten\")(headModel)\n",
        "headModel = Dense(64, activation=\"relu\")(headModel)\n",
        "headModel = Dropout(0.5)(headModel)\n",
        "headModel = Dense(2, activation=\"softmax\")(headModel)\n",
        "# Mesclamos os 2 modelos para treinamento\n",
        "model = Model(inputs=baseModel.input, outputs=headModel)\n",
        "# Congelamos as camadas do modelo principal, para que eles *não* sejam atualizados durante o processo de treinamento\n",
        "for layer in baseModel.layers:\n",
        "\tlayer.trainable = False"
      ],
      "execution_count": 0,
      "outputs": []
    },
    {
      "cell_type": "markdown",
      "metadata": {
        "id": "ehq_tbE3UsCa",
        "colab_type": "text"
      },
      "source": [
        "Pronto. Agora é só compilar o modelo e treiná-lo."
      ]
    },
    {
      "cell_type": "code",
      "metadata": {
        "id": "79m16qTjQtUo",
        "colab_type": "code",
        "colab": {
          "base_uri": "https://localhost:8080/",
          "height": 952
        },
        "outputId": "112e256e-b384-4fdf-d4bb-7f932a36e35f"
      },
      "source": [
        "# Compile o modelo\n",
        "opt = Adam(lr=INIT_LR, decay=INIT_LR / EPOCHS)\n",
        "model.compile(loss=\"binary_crossentropy\", optimizer=opt, metrics=[\"accuracy\"])\n",
        "# Inicie o treinamento\n",
        "#H = model.fit()\n",
        "H = model.fit(trainAug.flow(trainX, trainY, batch_size=BS),\n",
        "\tsteps_per_epoch=len(trainX) // BS,\n",
        "\tvalidation_data=(testX, testY),\n",
        "\tvalidation_steps=len(testX) // BS,\n",
        "\tepochs=EPOCHS)"
      ],
      "execution_count": 14,
      "outputs": [
        {
          "output_type": "stream",
          "text": [
            "WARNING:tensorflow:sample_weight modes were coerced from\n",
            "  ...\n",
            "    to  \n",
            "  ['...']\n",
            "Train for 5 steps, validate on 10 samples\n",
            "Epoch 1/25\n",
            "5/5 [==============================] - 2s 375ms/step - loss: 0.2632 - accuracy: 0.9750 - val_loss: 0.2689 - val_accuracy: 0.7500\n",
            "Epoch 2/25\n",
            "5/5 [==============================] - 1s 171ms/step - loss: 0.3200 - accuracy: 0.9250 - val_loss: 0.2475 - val_accuracy: 0.7500\n",
            "Epoch 3/25\n",
            "5/5 [==============================] - 1s 169ms/step - loss: 0.2922 - accuracy: 0.9000 - val_loss: 0.2419 - val_accuracy: 0.8750\n",
            "Epoch 4/25\n",
            "5/5 [==============================] - 1s 163ms/step - loss: 0.2902 - accuracy: 0.9250 - val_loss: 0.2263 - val_accuracy: 0.8750\n",
            "Epoch 5/25\n",
            "5/5 [==============================] - 1s 165ms/step - loss: 0.2882 - accuracy: 0.9500 - val_loss: 0.2371 - val_accuracy: 0.7500\n",
            "Epoch 6/25\n",
            "5/5 [==============================] - 1s 172ms/step - loss: 0.2812 - accuracy: 0.9000 - val_loss: 0.2368 - val_accuracy: 0.7500\n",
            "Epoch 7/25\n",
            "5/5 [==============================] - 1s 166ms/step - loss: 0.2425 - accuracy: 0.9250 - val_loss: 0.2189 - val_accuracy: 0.8750\n",
            "Epoch 8/25\n",
            "5/5 [==============================] - 1s 168ms/step - loss: 0.2967 - accuracy: 0.9000 - val_loss: 0.2260 - val_accuracy: 0.8750\n",
            "Epoch 9/25\n",
            "5/5 [==============================] - 1s 169ms/step - loss: 0.2273 - accuracy: 0.9750 - val_loss: 0.2573 - val_accuracy: 0.7500\n",
            "Epoch 10/25\n",
            "5/5 [==============================] - 1s 164ms/step - loss: 0.2263 - accuracy: 0.9500 - val_loss: 0.2178 - val_accuracy: 0.8750\n",
            "Epoch 11/25\n",
            "5/5 [==============================] - 1s 171ms/step - loss: 0.1743 - accuracy: 0.9750 - val_loss: 0.2152 - val_accuracy: 0.8750\n",
            "Epoch 12/25\n",
            "5/5 [==============================] - 1s 167ms/step - loss: 0.1794 - accuracy: 0.9750 - val_loss: 0.2110 - val_accuracy: 0.8750\n",
            "Epoch 13/25\n",
            "5/5 [==============================] - 1s 171ms/step - loss: 0.2666 - accuracy: 0.8750 - val_loss: 0.1894 - val_accuracy: 0.8750\n",
            "Epoch 14/25\n",
            "5/5 [==============================] - 1s 172ms/step - loss: 0.1878 - accuracy: 0.9750 - val_loss: 0.1803 - val_accuracy: 0.8750\n",
            "Epoch 15/25\n",
            "5/5 [==============================] - 1s 168ms/step - loss: 0.2908 - accuracy: 0.9000 - val_loss: 0.1600 - val_accuracy: 0.8750\n",
            "Epoch 16/25\n",
            "5/5 [==============================] - 1s 163ms/step - loss: 0.1902 - accuracy: 0.9500 - val_loss: 0.1835 - val_accuracy: 0.8750\n",
            "Epoch 17/25\n",
            "5/5 [==============================] - 1s 165ms/step - loss: 0.1537 - accuracy: 0.9750 - val_loss: 0.2254 - val_accuracy: 0.8750\n",
            "Epoch 18/25\n",
            "5/5 [==============================] - 1s 172ms/step - loss: 0.1623 - accuracy: 0.9750 - val_loss: 0.1901 - val_accuracy: 0.8750\n",
            "Epoch 19/25\n",
            "5/5 [==============================] - 1s 164ms/step - loss: 0.1490 - accuracy: 0.9750 - val_loss: 0.1777 - val_accuracy: 0.8750\n",
            "Epoch 20/25\n",
            "5/5 [==============================] - 1s 171ms/step - loss: 0.1610 - accuracy: 0.9750 - val_loss: 0.1927 - val_accuracy: 0.8750\n",
            "Epoch 21/25\n",
            "5/5 [==============================] - 1s 171ms/step - loss: 0.1743 - accuracy: 0.9750 - val_loss: 0.2164 - val_accuracy: 0.8750\n",
            "Epoch 22/25\n",
            "5/5 [==============================] - 1s 168ms/step - loss: 0.1609 - accuracy: 0.9500 - val_loss: 0.1570 - val_accuracy: 0.8750\n",
            "Epoch 23/25\n",
            "5/5 [==============================] - 1s 161ms/step - loss: 0.1774 - accuracy: 0.9500 - val_loss: 0.1506 - val_accuracy: 0.8750\n",
            "Epoch 24/25\n",
            "5/5 [==============================] - 1s 172ms/step - loss: 0.1461 - accuracy: 1.0000 - val_loss: 0.1760 - val_accuracy: 0.8750\n",
            "Epoch 25/25\n",
            "5/5 [==============================] - 1s 166ms/step - loss: 0.1490 - accuracy: 1.0000 - val_loss: 0.1896 - val_accuracy: 0.8750\n"
          ],
          "name": "stdout"
        }
      ]
    },
    {
      "cell_type": "markdown",
      "metadata": {
        "id": "X5L8C7cISMTz",
        "colab_type": "text"
      },
      "source": [
        "Para avaliação, primeiro fazemos previsões no conjunto de testes e obtemos os índices de previsão.\n",
        "\n",
        "Em seguida, geramos e imprimimos um relatório de classificação usando o  scikit-learn."
      ]
    },
    {
      "cell_type": "code",
      "metadata": {
        "id": "5nXOtUfsSMnC",
        "colab_type": "code",
        "colab": {
          "base_uri": "https://localhost:8080/",
          "height": 170
        },
        "outputId": "dc174133-1c72-4e97-dd22-33bfb03e960c"
      },
      "source": [
        "# Faça predicoes no conjunto de testes\n",
        "predIdxs = model.predict(testX, batch_size=BS)\n",
        "predIdxs = np.argmax(predIdxs, axis=1)\n",
        "print(classification_report(testY.argmax(axis=1), predIdxs,\n",
        "\ttarget_names=lb.classes_))"
      ],
      "execution_count": 15,
      "outputs": [
        {
          "output_type": "stream",
          "text": [
            "              precision    recall  f1-score   support\n",
            "\n",
            "       covid       1.00      0.80      0.89         5\n",
            "      normal       0.83      1.00      0.91         5\n",
            "\n",
            "    accuracy                           0.90        10\n",
            "   macro avg       0.92      0.90      0.90        10\n",
            "weighted avg       0.92      0.90      0.90        10\n",
            "\n"
          ],
          "name": "stdout"
        }
      ]
    },
    {
      "cell_type": "markdown",
      "metadata": {
        "id": "v-CNOkvhS-H3",
        "colab_type": "text"
      },
      "source": [
        "Gere uma matriz de confusão. Use a matriz de confusão para derivar a precisão, sensibilidade e especificidade e imprima cada uma dessas métricas."
      ]
    },
    {
      "cell_type": "code",
      "metadata": {
        "id": "3pQcCLKLS-Rd",
        "colab_type": "code",
        "colab": {
          "base_uri": "https://localhost:8080/",
          "height": 102
        },
        "outputId": "be623574-789d-41b1-fe08-0a486855568e"
      },
      "source": [
        "# calcular a matriz de confusão e usá-la para derivar precisão, sensibilidade e especificidade\n",
        "cm = confusion_matrix(testY.argmax(axis=1), predIdxs)\n",
        "total = sum(sum(cm))\n",
        "acc = (cm[0, 0] + cm[1, 1]) / total\n",
        "sensitivity = cm[0, 0] / (cm[0, 0] + cm[0, 1])\n",
        "specificity = cm[1, 1] / (cm[1, 0] + cm[1, 1])\n",
        "\n",
        "print(cm)\n",
        "print(\"acc: {:.4f}\".format(acc))\n",
        "print(\"sensitivity: {:.4f}\".format(sensitivity))\n",
        "print(\"specificity: {:.4f}\".format(specificity))"
      ],
      "execution_count": 16,
      "outputs": [
        {
          "output_type": "stream",
          "text": [
            "[[4 1]\n",
            " [0 5]]\n",
            "acc: 0.9000\n",
            "sensitivity: 0.8000\n",
            "specificity: 1.0000\n"
          ],
          "name": "stdout"
        }
      ]
    },
    {
      "cell_type": "markdown",
      "metadata": {
        "id": "gQuLbH_IV2Gy",
        "colab_type": "text"
      },
      "source": [
        "Como você pode ver pelos resultados acima, nosso detector COVID-19 automático está obtendo ~ 80% de precisão em nosso conjunto de dados de amostra com base apenas em imagens de raios-X - nenhum outro dado.\n",
        "\n",
        "Também estamos obtendo 60% de sensibilidade e 100% de especificidade, o que implica que:\n",
        "\n",
        "  - Dos pacientes que possuem COVID-19 (ou seja, verdadeiros positivos), poderíamos identificá-los com precisão como \"positivos para COVID-19\" 60% do tempo usando nosso modelo.\n",
        "  - Dos pacientes que não têm COVID-19 (ou seja, negativos verdadeiros), poderíamos identificá-los com precisão como \"COVID-19 negativo\" apenas 100% do tempo usando nosso modelo."
      ]
    },
    {
      "cell_type": "markdown",
      "metadata": {
        "id": "gdABZh4vT0nN",
        "colab_type": "text"
      },
      "source": [
        "Em seguida, traçamos nosso histórico de precisão / perda de treinamento para inspeção"
      ]
    },
    {
      "cell_type": "code",
      "metadata": {
        "id": "dXa4wU7CT0wt",
        "colab_type": "code",
        "colab": {
          "base_uri": "https://localhost:8080/",
          "height": 316
        },
        "outputId": "5f06590a-8fc1-49f9-fe2f-345370b91669"
      },
      "source": [
        "# plot the training loss and accuracy\n",
        "N = EPOCHS\n",
        "plt.style.use(\"ggplot\")\n",
        "plt.figure()\n",
        "plt.plot(np.arange(0, N), H.history[\"loss\"], label=\"train_loss\")\n",
        "plt.plot(np.arange(0, N), H.history[\"val_loss\"], label=\"val_loss\")\n",
        "plt.plot(np.arange(0, N), H.history[\"accuracy\"], label=\"train_acc\")\n",
        "plt.plot(np.arange(0, N), H.history[\"val_accuracy\"], label=\"val_acc\")\n",
        "plt.title(\"Training Loss and Accuracy on COVID-19 Dataset\")\n",
        "plt.xlabel(\"Epoch #\")\n",
        "plt.ylabel(\"Loss/Accuracy\")\n",
        "plt.legend(loc=\"lower left\")"
      ],
      "execution_count": 17,
      "outputs": [
        {
          "output_type": "execute_result",
          "data": {
            "text/plain": [
              "<matplotlib.legend.Legend at 0x7f6a598b2470>"
            ]
          },
          "metadata": {
            "tags": []
          },
          "execution_count": 17
        },
        {
          "output_type": "display_data",
          "data": {
            "image/png": "[encoded data removed]",
            "text/plain": [
              "<Figure size 432x288 with 1 Axes>"
            ]
          },
          "metadata": {
            "tags": []
          }
        }
      ]
    },
    {
      "cell_type": "markdown",
      "metadata": {
        "id": "ej6fRbDJVKOY",
        "colab_type": "text"
      },
      "source": [
        "Finalmente, serializamos nosso modelo de classificador tf.keras COVID-19 em disco"
      ]
    },
    {
      "cell_type": "code",
      "metadata": {
        "id": "LBZ-NGvYVKYs",
        "colab_type": "code",
        "colab": {}
      },
      "source": [
        "model.save(\"covid19.model\", save_format=\"h5\")"
      ],
      "execution_count": 0,
      "outputs": []
    }
  ]
}