{
  "nbformat": 4,
  "nbformat_minor": 0,
  "metadata": {
    "colab": {
      "name": "CRM-2020-01-17.ipynb",
      "provenance": [],
      "collapsed_sections": [],
      "authorship_tag": "ABX9TyOj64EQzhVjYIBOgkd51YvZ"
    },
    "kernelspec": {
      "name": "python3",
      "display_name": "Python 3"
    }
  },
  "cells": [
    {
      "cell_type": "code",
      "metadata": {
        "id": "_49JkMjXlshh",
        "colab_type": "code",
        "colab": {}
      },
      "source": [
        "import random\n",
        "\n",
        "for i in range(10):\n",
        "  x = random.random()\n",
        "  print(x)\n"
      ],
      "execution_count": 0,
      "outputs": []
    },
    {
      "cell_type": "code",
      "metadata": {
        "id": "FcmZnHOil_bm",
        "colab_type": "code",
        "colab": {}
      },
      "source": [
        "random.seed(45)\n",
        "\n",
        "for i in range(10):\n",
        "  x = random.random()\n",
        "  print(x)\n"
      ],
      "execution_count": 0,
      "outputs": []
    },
    {
      "cell_type": "code",
      "metadata": {
        "id": "9ZX_sWXkmaT1",
        "colab_type": "code",
        "colab": {}
      },
      "source": [
        "random.randint(5, 10)"
      ],
      "execution_count": 0,
      "outputs": []
    },
    {
      "cell_type": "code",
      "metadata": {
        "id": "vnOORz6amovC",
        "colab_type": "code",
        "colab": {}
      },
      "source": [
        "t = [1, 2, 3]\n",
        "random.choice(t)"
      ],
      "execution_count": 0,
      "outputs": []
    },
    {
      "cell_type": "code",
      "metadata": {
        "id": "XGHNdFuRm48P",
        "colab_type": "code",
        "colab": {}
      },
      "source": [
        "palavra = 'banana'\n",
        "contagem = 0\n",
        "for letra in palavra:\n",
        "  if letra == 'a':\n",
        "    contagem = contagem + 1\n",
        "print(contagem)\n"
      ],
      "execution_count": 0,
      "outputs": []
    },
    {
      "cell_type": "code",
      "metadata": {
        "id": "LqBj2voZrqQ6",
        "colab_type": "code",
        "colab": {}
      },
      "source": [
        "dir(palavra)"
      ],
      "execution_count": 0,
      "outputs": []
    },
    {
      "cell_type": "code",
      "metadata": {
        "id": "6NxkCeO9t82O",
        "colab_type": "code",
        "colab": {}
      },
      "source": [
        "!wget www.py4e.com/code3/mbox-short.txt"
      ],
      "execution_count": 0,
      "outputs": []
    },
    {
      "cell_type": "code",
      "metadata": {
        "id": "UkvwklYiuSjk",
        "colab_type": "code",
        "colab": {}
      },
      "source": [
        "!cat mbox-short.txt"
      ],
      "execution_count": 0,
      "outputs": []
    },
    {
      "cell_type": "code",
      "metadata": {
        "id": "2hUfvF2-vmyZ",
        "colab_type": "code",
        "colab": {
          "base_uri": "https://localhost:8080/",
          "height": 34
        },
        "outputId": "62ad0431-dfc0-4d4c-acd1-1462de2de8df"
      },
      "source": [
        "fhand = open('mbox-short.txt')\n",
        "count = 0\n",
        "for line in fhand:\n",
        "  count = count + 1\n",
        "print('Line Count:', count)"
      ],
      "execution_count": 4,
      "outputs": [
        {
          "output_type": "stream",
          "text": [
            "Line Count: 1910\n"
          ],
          "name": "stdout"
        }
      ]
    },
    {
      "cell_type": "code",
      "metadata": {
        "id": "_DE8Dhkkv2kg",
        "colab_type": "code",
        "colab": {}
      },
      "source": [
        "fhand = open('mbox-short.txt')\n",
        "inp = fhand.read()\n",
        "print(len(inp))\n",
        "print(inp[:200])\n"
      ],
      "execution_count": 0,
      "outputs": []
    },
    {
      "cell_type": "code",
      "metadata": {
        "id": "NhdCGU460xgK",
        "colab_type": "code",
        "colab": {}
      },
      "source": [
        "fhand = open('mbox-short.txt')\n",
        "for line in fhand:\n",
        "  #line = line.rstrip()\n",
        "  if line.startswith('From:'):\n",
        "    #print(repr(line))\n",
        "    print(line)"
      ],
      "execution_count": 0,
      "outputs": []
    },
    {
      "cell_type": "code",
      "metadata": {
        "id": "Lm07Tiou1cDp",
        "colab_type": "code",
        "colab": {}
      },
      "source": [
        "fhand = open('mbox-short.txt')\n",
        "for line in fhand:\n",
        "  line = line.rstrip()\n",
        "  # Skip 'uninteresting lines'\n",
        "  if not line.startswith('From:'):\n",
        "    continue\n",
        "  # Process our 'interesting' line\n",
        "  print(line)\n"
      ],
      "execution_count": 0,
      "outputs": []
    },
    {
      "cell_type": "code",
      "metadata": {
        "id": "nGaQC9dh3ESb",
        "colab_type": "code",
        "colab": {}
      },
      "source": [
        "fhand = open('mbox-short.txt')\n",
        "for line in fhand:\n",
        "  line = line.rstrip()\n",
        "  if not line.startswith('From '): continue\n",
        "  words = line.split()\n",
        "  print(words)\n",
        "  print(words[2])\n",
        "\n"
      ],
      "execution_count": 0,
      "outputs": []
    },
    {
      "cell_type": "code",
      "metadata": {
        "id": "PLxDuUAx5Jap",
        "colab_type": "code",
        "colab": {}
      },
      "source": [
        "ing2port = dict()\n",
        "print(ing2port)\n",
        "\n",
        "ing2port['one'] = 'um'\n",
        "ing2port['dois'] = 'dois'\n",
        "ing2port['tres'] = 'tres'\n",
        "print(ing2port)\n",
        "\n"
      ],
      "execution_count": 0,
      "outputs": []
    },
    {
      "cell_type": "code",
      "metadata": {
        "id": "g79zFQtP6zST",
        "colab_type": "code",
        "colab": {}
      },
      "source": [
        "palavra = 'brontosaurus'\n",
        "d = dict()\n",
        "for c in palavra:\n",
        "  if c not in d:\n",
        "    d[c] = 1\n",
        "  else:\n",
        "    d[c] = d[c] + 1\n",
        "print(d)\n"
      ],
      "execution_count": 0,
      "outputs": []
    },
    {
      "cell_type": "code",
      "metadata": {
        "id": "fnIw9pf5659k",
        "colab_type": "code",
        "colab": {}
      },
      "source": [
        "word = 'brontosaurus'\n",
        "d = dict()\n",
        "for c in palavra:\n",
        "  d[c] = d.get(c,0) + 1\n",
        "print(d)\n"
      ],
      "execution_count": 0,
      "outputs": []
    },
    {
      "cell_type": "code",
      "metadata": {
        "id": "cTLn-BJL7IbQ",
        "colab_type": "code",
        "colab": {}
      },
      "source": [
        "!wget www.py4e.com/code3/romeo-full.txt\n",
        "!wget www.py4e.com/code3/romeo.txt\n",
        "!cat romeo.txt"
      ],
      "execution_count": 0,
      "outputs": []
    },
    {
      "cell_type": "code",
      "metadata": {
        "id": "jnJQ5HBE7I0t",
        "colab_type": "code",
        "colab": {}
      },
      "source": [
        "try:\n",
        "  fhand = open('romeo.txt')\n",
        "except:\n",
        "  print('File cannot be opened:', fname)\n",
        "  exit()\n",
        "counts = dict()\n",
        "for line in fhand:\n",
        "  words = line.split()\n",
        "  for word in words:\n",
        "    counts[word] = counts.get(word,0) + 1\n",
        "    \n",
        "print(counts)\n"
      ],
      "execution_count": 0,
      "outputs": []
    },
    {
      "cell_type": "code",
      "metadata": {
        "id": "JGy8c9lSb12W",
        "colab_type": "code",
        "colab": {}
      },
      "source": [
        "conta = { 'chuck' : 1 , 'annie' : 42, 'jan': 100}\n",
        "for key in conta:\n",
        "  print(key, conta[key])\n",
        "\n"
      ],
      "execution_count": 0,
      "outputs": []
    },
    {
      "cell_type": "code",
      "metadata": {
        "id": "7G90x_uIriAU",
        "colab_type": "code",
        "colab": {}
      },
      "source": [
        "import string\n",
        "\n",
        "fname = 'romeo-full.txt'\n",
        "try:\n",
        "  fhand = open(fname)\n",
        "except:\n",
        "  print('File cannot be opened:', fname)\n",
        "  exit()\n",
        "counts = dict()\n",
        "for line in fhand:\n",
        "  line = line.rstrip()\n",
        "  line = line.translate(line.maketrans('', '', string.punctuation))\n",
        "  line = line.lower()\n",
        "  words = line.split()\n",
        "  for word in words:\n",
        "    counts[word] = counts.get(word,0) + 1\n",
        "print(counts)\n",
        "\n"
      ],
      "execution_count": 0,
      "outputs": []
    },
    {
      "cell_type": "code",
      "metadata": {
        "id": "qpJXh_kC9_V3",
        "colab_type": "code",
        "colab": {}
      },
      "source": [
        "print( (0, 1, 2) < (0, 3, 4) )\n",
        "print( (0, 1, 2000000) < (0, 3, 4) )\n",
        "\n"
      ],
      "execution_count": 0,
      "outputs": []
    },
    {
      "cell_type": "code",
      "metadata": {
        "id": "tH7Usg2C-lGY",
        "colab_type": "code",
        "colab": {}
      },
      "source": [
        "txt = 'but soft what light in yonder window breaks'\n",
        "words = txt.split()\n",
        "t = list()\n",
        "for word in words:\n",
        "  t.append((len(word), word))\n",
        "\n",
        "t.sort(reverse=True)\n",
        "print(t)\n",
        "\n",
        "res = list()\n",
        "for length, word in t:\n",
        "  res.append(word)\n",
        "print(res)\n"
      ],
      "execution_count": 0,
      "outputs": []
    },
    {
      "cell_type": "code",
      "metadata": {
        "id": "-PCFSH4TAPT_",
        "colab_type": "code",
        "colab": {}
      },
      "source": [
        "fhand = open('romeo-full.txt')\n",
        "counts = dict()\n",
        "for line in fhand:\n",
        "  line = line.translate(str.maketrans('', '', string.punctuation))\n",
        "  line = line.lower()\n",
        "  words = line.split()\n",
        "  for word in words:\n",
        "    counts[word] = counts.get(word,0) + 1\n",
        "\n",
        "# Sort the dictionary by value\n",
        "lst = list()\n",
        "for key, val in list(counts.items()):\n",
        "  lst.append((val, key))\n",
        "lst.sort(reverse=True)\n",
        "\n",
        "for key, val in lst[:10]:\n",
        "  print(key, val)\n"
      ],
      "execution_count": 0,
      "outputs": []
    },
    {
      "cell_type": "code",
      "metadata": {
        "id": "IAaMHUnwAtXE",
        "colab_type": "code",
        "colab": {
          "base_uri": "https://localhost:8080/",
          "height": 51
        },
        "outputId": "14c8e01d-ea02-42c5-f6f0-f96a61cd22ea"
      },
      "source": [
        "diretorio = dict()\n",
        "diretorio['Jose', 'Silva'] = ['Limeira', '355322235', 25]\n",
        "diretorio['Joao', 'Souza'] = ['Piracicaba', '355322252', 43]\n",
        "\n",
        "for primeiro, ultimo in diretorio:\n",
        "  print (\"Nome: {} {} - Cidade: {} - Fone: {} - idade: {}\".format(primeiro, ultimo, diretorio[primeiro, ultimo][0], diretorio[primeiro, ultimo][1], diretorio[primeiro, ultimo][2]))\n"
      ],
      "execution_count": 85,
      "outputs": [
        {
          "output_type": "stream",
          "text": [
            "Nome: Jose Silva - Cidade: Limeira - Fone: 355322235 - idade: 25\n",
            "Nome: Joao Souza - Cidade: Piracicaba - Fone: 355322252 - idade: 43\n"
          ],
          "name": "stdout"
        }
      ]
    }
  ]
}