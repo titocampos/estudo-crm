{
  "nbformat": 4,
  "nbformat_minor": 0,
  "metadata": {
    "colab": {
      "name": "LeNet-5.ipynb",
      "provenance": [],
      "authorship_tag": "ABX9TyMFk6EoMMNs27dcJdNscTug",
      "include_colab_link": true
    },
    "kernelspec": {
      "name": "python3",
      "display_name": "Python 3"
    },
    "accelerator": "GPU"
  },
  "cells": [
    {
      "cell_type": "markdown",
      "metadata": {
        "id": "view-in-github",
        "colab_type": "text"
      },
      "source": [
        "<a href=\"https://colab.research.google.com/github/titocampos/estudo-crm/blob/master/LeNet_5.ipynb\" target=\"_parent\"><img src=\"https://colab.research.google.com/assets/colab-badge.svg\" alt=\"Open In Colab\"/></a>"
      ]
    },
    {
      "cell_type": "markdown",
      "metadata": {
        "id": "QIpNvD285Qn6",
        "colab_type": "text"
      },
      "source": [
        "# LeNet-5\n",
        "\n",
        "A arquitetura LeNet-5 é foi criado por Yann LeCun em 1998 e amplamente utilizado para reconhecimento de dígitos escritos (MNIST) -  http://yann.lecun.com/exdb/publis/pdf/lecun-01a.pdf.\n",
        "\n",
        "\n",
        "Aqui está a arquitetura LeNet-5.\n",
        "\n",
        "![image.png](data:image/png;base64,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)\n",
        "\n"
      ]
    },
    {
      "cell_type": "markdown",
      "metadata": {
        "id": "h3vLBm7l6RGb",
        "colab_type": "text"
      },
      "source": [
        "Começamos com uma imagem em escala de cinza (o LeNet-5 foi treinado em imagens em escala de cinza), com um formato de 32x32 x1. Na primeira etapa, usamos um conjunto de seis filtros 5x5 com um passo de um. Como usamos seis filtros, acabamos com um formato de 28x28x6 e um passo de um e sem preenchimento.\n",
        "\n",
        "A saída é calculada da seguinte forma:\n",
        "\n",
        "    (n +2p -f )/ s +1 * (n +2p -f )/ s +1 * Nc\n",
        "\n",
        "onde:\n",
        "\n",
        "Nc -> numero de canais -> número de filtros usados para convolucionar nossas entradas.\n",
        "\n",
        "p -> padding -> Na LeNet-5 não utilizamos padding\n",
        "\n",
        "f -> tamanho filtro convolucional\n",
        "\n",
        "s -> stride \n",
        "\n",
        "    (n +2p -f )/ s +1 * (n +2p -f )/ s +1 * Nc\n",
        "    = (32+0–5)/1 +1 * (32+0–5)/1 +1 * 6\n",
        "    = 28 * 28 * 6\n",
        "\n",
        "Na época em que o artigo foi publicado, as pessoas usavam o avg pooling muito mais do que o max pooling.\n",
        "\n",
        "Utilizaremos Tensorflow 2 para montar nossa rede neural seguindo os seguintes passos:\n",
        "  - Baixar o conjunto de dados MNIST com imagens manuscritas rotuladas (28x28 px).\n",
        "  - Preprocessar o conjunto de dados para adequa-lo as entradas da rede  ( 32 x 32 px)\n",
        "  - Construir nosso modelo (arquitetura de rede LeNet-5).\n",
        "  - A etapa final seria treinar nosso modelo e, em seguida, testar e validar o desempenho."
      ]
    },
    {
      "cell_type": "markdown",
      "metadata": {
        "id": "_EjQ3Y2iCbQa",
        "colab_type": "text"
      },
      "source": [
        "## Importando bibiliotecas"
      ]
    },
    {
      "cell_type": "code",
      "metadata": {
        "id": "aP_clkok5Nlf",
        "colab_type": "code",
        "colab": {
          "base_uri": "https://localhost:8080/",
          "height": 34
        },
        "outputId": "2cb21d8d-2f9f-4ad6-e3d4-072c38491815"
      },
      "source": [
        "%tensorflow_version 2.x\n",
        "%matplotlib inline\n",
        "\n",
        "from requests import get\n",
        "import gzip\n",
        "import numpy as np\n",
        "import pandas as pd\n",
        "import matplotlib.pyplot as plt\n",
        "from sklearn.model_selection import train_test_split\n",
        "import tensorflow as tf\n",
        "from time import time\n",
        "import seaborn as sns\n"
      ],
      "execution_count": 1,
      "outputs": [
        {
          "output_type": "stream",
          "text": [
            "TensorFlow 2.x selected.\n"
          ],
          "name": "stdout"
        }
      ]
    },
    {
      "cell_type": "markdown",
      "metadata": {
        "id": "Gu3gXHZkCg7Q",
        "colab_type": "text"
      },
      "source": [
        "## Baixando o conjunto de dados\n",
        "\n",
        "Os dados podem ser baixados do site, http://yann.lecun.com/exdb/mnist/: \n",
        "  - conjunto de imagens de treino: train-images-idx3-ubyte.gz (9912422 bytes)\n",
        "  - conjunto de labels de treino: train-labels-idx1-ubyte.gz (28881 bytes)\n",
        "  - conjunto de imagens de teste: t10k-images-idx3-ubyte.gz (1648877 bytes)\n",
        "  - conjunto de labels de teste: t10k-labels-idx1-ubyte.gz (4542 bytes)"
      ]
    },
    {
      "cell_type": "code",
      "metadata": {
        "id": "2z9GK_KqDsrs",
        "colab_type": "code",
        "colab": {}
      },
      "source": [
        "def download_file(url, file_name):\n",
        "    with open(file_name, \"wb\") as file:\n",
        "        response = get(url)\n",
        "        file.write(response.content)\n",
        "\n",
        "download_file('http://yann.lecun.com/exdb/mnist/train-images-idx3-ubyte.gz', 'train-images-idx3-ubyte.gz')\n",
        "download_file('http://yann.lecun.com/exdb/mnist/train-labels-idx1-ubyte.gz', 'train-labels-idx1-ubyte.gz')\n",
        "download_file('http://yann.lecun.com/exdb/mnist/t10k-images-idx3-ubyte.gz', 't10k-images-idx3-ubyte.gz')\n",
        "download_file('http://yann.lecun.com/exdb/mnist/t10k-labels-idx1-ubyte.gz', 't10k-labels-idx1-ubyte.gz')        "
      ],
      "execution_count": 0,
      "outputs": []
    },
    {
      "cell_type": "markdown",
      "metadata": {
        "id": "N0HvoeiCEAn9",
        "colab_type": "text"
      },
      "source": [
        "## Carregando os dados"
      ]
    },
    {
      "cell_type": "code",
      "metadata": {
        "id": "NrM7lHkrELHc",
        "colab_type": "code",
        "colab": {}
      },
      "source": [
        "def read_mnist(images_path: str, labels_path: str):\n",
        "    with gzip.open(labels_path, 'rb') as labelsFile:\n",
        "        labels = np.frombuffer(labelsFile.read(), dtype=np.uint8, offset=8)\n",
        "\n",
        "    with gzip.open(images_path,'rb') as imagesFile:\n",
        "        length = len(labels)\n",
        "        # Load flat 28x28 px images (784 px), and convert them to 28x28 px\n",
        "        features = np.frombuffer(imagesFile.read(), dtype=np.uint8, offset=16) \\\n",
        "                        .reshape(length, 784) \\\n",
        "                        .reshape(length, 28, 28, 1)\n",
        "        \n",
        "    return features, labels\n",
        "\n",
        "train = {}\n",
        "test = {}\n",
        "\n",
        "train['features'], train['labels'] = read_mnist('train-images-idx3-ubyte.gz', 'train-labels-idx1-ubyte.gz')\n",
        "test['features'], test['labels'] = read_mnist('t10k-images-idx3-ubyte.gz', 't10k-labels-idx1-ubyte.gz')    "
      ],
      "execution_count": 0,
      "outputs": []
    },
    {
      "cell_type": "markdown",
      "metadata": {
        "id": "WZuHsWygE1mH",
        "colab_type": "text"
      },
      "source": [
        "## Explorando os dados\n",
        "\n",
        "É sempre bom fazer uma exploração de dados antes de começarmos a usá-lo, encontrar discrepâncias e decidir se precisamos de uma fase de pré-processamento para uniformizá-los ou aumentá-los. E também para garantir que todas as classes sejam cobertas por mais ou menos o mesmo número de amostras."
      ]
    },
    {
      "cell_type": "code",
      "metadata": {
        "id": "hFjHsofvFUDI",
        "colab_type": "code",
        "colab": {
          "base_uri": "https://localhost:8080/",
          "height": 51
        },
        "outputId": "37dd100f-5e8f-4e15-c248-e38244048383"
      },
      "source": [
        "print('# imagens de treino:', train['features'].shape[0])\n",
        "print('# imagens de teste:', test['features'].shape[0])"
      ],
      "execution_count": 4,
      "outputs": [
        {
          "output_type": "stream",
          "text": [
            "# imagens de treino: 60000\n",
            "# imagens de teste: 10000\n"
          ],
          "name": "stdout"
        }
      ]
    },
    {
      "cell_type": "code",
      "metadata": {
        "id": "f2aG8O9oGDxx",
        "colab_type": "code",
        "colab": {
          "base_uri": "https://localhost:8080/",
          "height": 373
        },
        "outputId": "61182eda-eba8-4aa6-ddf7-6f4dedaa71b9"
      },
      "source": [
        "def display_image(position):\n",
        "    image = train['features'][position].squeeze()\n",
        "    plt.subplot(3, 3, position + 1)\n",
        "    plt.axis('off')\n",
        "    plt.title('Label: %d' % (train['labels'][position]), color='white')\n",
        "    plt.imshow(image, cmap=plt.cm.gray_r)\n",
        "\n",
        "plt.figure(figsize=(6, 6))\n",
        "for i in range(9):\n",
        "  display_image(i)\n",
        "plt.show();"
      ],
      "execution_count": 5,
      "outputs": [
        {
          "output_type": "display_data",
          "data": {
            "image/png": "[encoded data removed]",
            "text/plain": [
              "<Figure size 432x432 with 9 Axes>"
            ]
          },
          "metadata": {
            "tags": []
          }
        }
      ]
    },
    {
      "cell_type": "markdown",
      "metadata": {
        "id": "BI-Eks1HUEIZ",
        "colab_type": "text"
      },
      "source": [
        "## Distribuição dos exemplos de treino"
      ]
    },
    {
      "cell_type": "code",
      "metadata": {
        "id": "FFSjWp3OUJgh",
        "colab_type": "code",
        "colab": {
          "base_uri": "https://localhost:8080/",
          "height": 297
        },
        "outputId": "82121ed4-b106-448a-aef5-65b31675409a"
      },
      "source": [
        "train_labels_count = np.unique(train['labels'], return_counts=True)\n",
        "df = pd.DataFrame({'Label':train_labels_count[0], 'Count':train_labels_count[1]})\n",
        "ax = df.plot(x ='Label', y='Count', kind = 'bar', rot=0, legend=False )\n",
        "ax.set_ylabel(\"Distribuição\", fontsize=12)\n",
        "ax.set_axisbelow(True)\n",
        "ax.yaxis.grid(color='gray', linestyle='dashed')\n",
        "ax.xaxis.grid(color='gray', linestyle='dashed')\n",
        "plt.tight_layout();"
      ],
      "execution_count": 6,
      "outputs": [
        {
          "output_type": "display_data",
          "data": {
            "image/png": "[encoded data removed]",
            "text/plain": [
              "<Figure size 432x288 with 1 Axes>"
            ]
          },
          "metadata": {
            "tags": []
          }
        }
      ]
    },
    {
      "cell_type": "markdown",
      "metadata": {
        "id": "KQxDhNp_-Imn",
        "colab_type": "text"
      },
      "source": [
        "## Separando dados ente validacao e treino"
      ]
    },
    {
      "cell_type": "code",
      "metadata": {
        "id": "z9VkSQBhV11u",
        "colab_type": "code",
        "colab": {
          "base_uri": "https://localhost:8080/",
          "height": 51
        },
        "outputId": "986e902a-f3ad-4d0f-f294-2cce35046f29"
      },
      "source": [
        "validation = {}\n",
        "train['features'], validation['features'], train['labels'], validation['labels'] = train_test_split(train['features'], train['labels'], test_size=0.2, random_state=0)\n",
        "\n",
        "print('# imagens de treino:', train['features'].shape[0])\n",
        "print('# imagens de validacao:', validation['features'].shape[0])\n"
      ],
      "execution_count": 7,
      "outputs": [
        {
          "output_type": "stream",
          "text": [
            "# imagens de treino: 48000\n",
            "# imagens de validacao: 12000\n"
          ],
          "name": "stdout"
        }
      ]
    },
    {
      "cell_type": "markdown",
      "metadata": {
        "id": "iM8OV0Gn_DYw",
        "colab_type": "text"
      },
      "source": [
        "## Preparando dados de entrada\n",
        "\n",
        "A arquitetura LeNet-5 aceita imagens de 32x32 pixels como entrada; os dados MNIST são 28x28 pixels. Simplesmente preenchemos as imagens com zeros para superar isso."
      ]
    },
    {
      "cell_type": "code",
      "metadata": {
        "id": "yWqUF1GO_bUb",
        "colab_type": "code",
        "colab": {
          "base_uri": "https://localhost:8080/",
          "height": 34
        },
        "outputId": "b891fc73-88c8-4155-e62a-acc52c4aedf1"
      },
      "source": [
        "train['features']      = np.pad(train['features'], ((0,0),(2,2),(2,2),(0,0)), 'constant')\n",
        "validation['features'] = np.pad(validation['features'], ((0,0),(2,2),(2,2),(0,0)), 'constant')\n",
        "test['features']       = np.pad(test['features'], ((0,0),(2,2),(2,2),(0,0)), 'constant')\n",
        "    \n",
        "print(\"Tamanho atualizado: {}\".format(train['features'][0].shape))"
      ],
      "execution_count": 8,
      "outputs": [
        {
          "output_type": "stream",
          "text": [
            "Tamanho atualizado: (32, 32, 1)\n"
          ],
          "name": "stdout"
        }
      ]
    },
    {
      "cell_type": "markdown",
      "metadata": {
        "id": "5-Pfd1US_84n",
        "colab_type": "text"
      },
      "source": [
        "## Implementando a rede\n",
        "\n",
        "\n",
        "\n",
        "**Inspirado em ** https://github.com/udacity/CarND-LeNet-Lab/blob/master/LeNet-Lab-Solution.ipynb\n",
        "\n",
        "#### Entrada\n",
        "    Imagem 32x32x1 pixels \n",
        "\n",
        "#### Arquitetura\n",
        "* **Convolutional #1** saída 28x28x6\n",
        "    * **Activation** qualquer função de ativatição function, utilizaremos `relu`\n",
        "\n",
        "* **Pooling #1** A saída deve ser 14x14x6.\n",
        "\n",
        "* **Convolutional #2** saída 10x10x16.\n",
        "    * **Activation** qualquer função de ativatição function, utilizaremos `relu`\n",
        "\n",
        "* **Pooling #2** saída 5x5x16.\n",
        "    * **Flatten** Serializa a saía da ultima camanda de pooling\n",
        "\n",
        "* **Fully Connected #1** saida 120\n",
        "    * **Activation** qualquer função de ativatição function, utilizaremos `relu`\n",
        "\n",
        "* **Fully Connected #2** outputs 84\n",
        "    * **Activation** qualquer função de ativatição function, utilizaremos `relu`\n",
        "\n",
        "* **Fully Connected (Logits) #3** saída 10\n"
      ]
    },
    {
      "cell_type": "code",
      "metadata": {
        "id": "iHU1QPLyCxn7",
        "colab_type": "code",
        "colab": {
          "base_uri": "https://localhost:8080/",
          "height": 425
        },
        "outputId": "1ff72ede-1e54-4191-e444-1c8648e296b2"
      },
      "source": [
        "model = tf.keras.Sequential()\n",
        "model.add(tf.keras.layers.Conv2D(filters=6, kernel_size=(5, 5), activation='relu', input_shape=(32,32,1)))\n",
        "model.add(tf.keras.layers.AveragePooling2D())\n",
        "model.add(tf.keras.layers.Conv2D(filters=16, kernel_size=(5, 5), activation='relu'))\n",
        "model.add(tf.keras.layers.AveragePooling2D())\n",
        "model.add(tf.keras.layers.Flatten())\n",
        "model.add(tf.keras.layers.Dense(units=120, activation='relu'))\n",
        "model.add(tf.keras.layers.Dense(units=84, activation='relu'))\n",
        "model.add(tf.keras.layers.Dense(units=10, activation = 'softmax'))\n",
        "\n",
        "model.summary()"
      ],
      "execution_count": 9,
      "outputs": [
        {
          "output_type": "stream",
          "text": [
            "Model: \"sequential\"\n",
            "_________________________________________________________________\n",
            "Layer (type)                 Output Shape              Param #   \n",
            "=================================================================\n",
            "conv2d (Conv2D)              (None, 28, 28, 6)         156       \n",
            "_________________________________________________________________\n",
            "average_pooling2d (AveragePo (None, 14, 14, 6)         0         \n",
            "_________________________________________________________________\n",
            "conv2d_1 (Conv2D)            (None, 10, 10, 16)        2416      \n",
            "_________________________________________________________________\n",
            "average_pooling2d_1 (Average (None, 5, 5, 16)          0         \n",
            "_________________________________________________________________\n",
            "flatten (Flatten)            (None, 400)               0         \n",
            "_________________________________________________________________\n",
            "dense (Dense)                (None, 120)               48120     \n",
            "_________________________________________________________________\n",
            "dense_1 (Dense)              (None, 84)                10164     \n",
            "_________________________________________________________________\n",
            "dense_2 (Dense)              (None, 10)                850       \n",
            "=================================================================\n",
            "Total params: 61,706\n",
            "Trainable params: 61,706\n",
            "Non-trainable params: 0\n",
            "_________________________________________________________________\n"
          ],
          "name": "stdout"
        }
      ]
    },
    {
      "cell_type": "code",
      "metadata": {
        "id": "-bGEXEZsHekP",
        "colab_type": "code",
        "colab": {}
      },
      "source": [
        "EPOCHS = 10\n",
        "BATCH_SIZE = 128\n",
        "\n",
        "model.compile(loss=tf.keras.losses.categorical_crossentropy, optimizer=tf.keras.optimizers.Adam(), metrics=['accuracy'])\n",
        "\n",
        "X_train, y_train = train['features'], tf.keras.utils.to_categorical(train['labels'])\n",
        "X_validation, y_validation = validation['features'], tf.keras.utils.to_categorical(validation['labels'])\n",
        "\n",
        "train_generator = tf.keras.preprocessing.image.ImageDataGenerator().flow(X_train, y_train, batch_size=BATCH_SIZE)\n",
        "validation_generator = tf.keras.preprocessing.image.ImageDataGenerator().flow(X_validation, y_validation, batch_size=BATCH_SIZE)"
      ],
      "execution_count": 0,
      "outputs": []
    },
    {
      "cell_type": "markdown",
      "metadata": {
        "id": "Iz1it2inQjZL",
        "colab_type": "text"
      },
      "source": [
        "## Treinamento"
      ]
    },
    {
      "cell_type": "code",
      "metadata": {
        "id": "0uERIjeQQjlu",
        "colab_type": "code",
        "colab": {
          "base_uri": "https://localhost:8080/",
          "height": 598
        },
        "outputId": "9673e066-8f8a-4249-837f-5b88f5a71c6c"
      },
      "source": [
        "print('# imagens de treino:', train['features'].shape[0])\n",
        "print('# imagens de validacao:', validation['features'].shape[0])\n",
        "\n",
        "steps_per_epoch = X_train.shape[0] // BATCH_SIZE\n",
        "validation_steps = X_validation.shape[0] // BATCH_SIZE\n",
        "\n",
        "tensorboard = tf.keras.callbacks.TensorBoard(log_dir=\"./logs/{}\".format(time()))\n",
        "\n",
        "model.fit(train_generator, steps_per_epoch=steps_per_epoch, epochs=EPOCHS, \n",
        "          validation_data=validation_generator, validation_steps=validation_steps, \n",
        "          shuffle=True, callbacks=[tensorboard])"
      ],
      "execution_count": 11,
      "outputs": [
        {
          "output_type": "stream",
          "text": [
            "# imagens de treino: 48000\n",
            "# imagens de validacao: 12000\n",
            "WARNING:tensorflow:sample_weight modes were coerced from\n",
            "  ...\n",
            "    to  \n",
            "  ['...']\n",
            "WARNING:tensorflow:sample_weight modes were coerced from\n",
            "  ...\n",
            "    to  \n",
            "  ['...']\n",
            "Train for 375 steps, validate for 93 steps\n",
            "Epoch 1/10\n",
            "  1/375 [..............................] - ETA: 47:20 - loss: 33.4065 - accuracy: 0.0547WARNING:tensorflow:Method (on_train_batch_end) is slow compared to the batch update (0.253060). Check your callbacks.\n",
            "375/375 [==============================] - 10s 27ms/step - loss: 0.6091 - accuracy: 0.8961 - val_loss: 0.1139 - val_accuracy: 0.9680\n",
            "Epoch 2/10\n",
            "375/375 [==============================] - 2s 7ms/step - loss: 0.0881 - accuracy: 0.9737 - val_loss: 0.0782 - val_accuracy: 0.9765\n",
            "Epoch 3/10\n",
            "375/375 [==============================] - 2s 7ms/step - loss: 0.0633 - accuracy: 0.9805 - val_loss: 0.0744 - val_accuracy: 0.9771\n",
            "Epoch 4/10\n",
            "375/375 [==============================] - 3s 7ms/step - loss: 0.0442 - accuracy: 0.9861 - val_loss: 0.0802 - val_accuracy: 0.9777\n",
            "Epoch 5/10\n",
            "375/375 [==============================] - 3s 7ms/step - loss: 0.0397 - accuracy: 0.9875 - val_loss: 0.0499 - val_accuracy: 0.9837\n",
            "Epoch 6/10\n",
            "375/375 [==============================] - 2s 6ms/step - loss: 0.0314 - accuracy: 0.9896 - val_loss: 0.0524 - val_accuracy: 0.9845\n",
            "Epoch 7/10\n",
            "375/375 [==============================] - 3s 7ms/step - loss: 0.0282 - accuracy: 0.9908 - val_loss: 0.0553 - val_accuracy: 0.9847\n",
            "Epoch 8/10\n",
            "375/375 [==============================] - 3s 7ms/step - loss: 0.0256 - accuracy: 0.9914 - val_loss: 0.0585 - val_accuracy: 0.9840\n",
            "Epoch 9/10\n",
            "375/375 [==============================] - 3s 7ms/step - loss: 0.0208 - accuracy: 0.9934 - val_loss: 0.0518 - val_accuracy: 0.9870\n",
            "Epoch 10/10\n",
            "375/375 [==============================] - 3s 7ms/step - loss: 0.0180 - accuracy: 0.9943 - val_loss: 0.0598 - val_accuracy: 0.9840\n"
          ],
          "name": "stdout"
        },
        {
          "output_type": "execute_result",
          "data": {
            "text/plain": [
              "<tensorflow.python.keras.callbacks.History at 0x7f2be039f128>"
            ]
          },
          "metadata": {
            "tags": []
          },
          "execution_count": 11
        }
      ]
    },
    {
      "cell_type": "markdown",
      "metadata": {
        "id": "Tj9IBFM_SSI4",
        "colab_type": "text"
      },
      "source": [
        "## Testando o modelo\n",
        "\n"
      ]
    },
    {
      "cell_type": "code",
      "metadata": {
        "id": "BSGRzAGkSavH",
        "colab_type": "code",
        "colab": {
          "base_uri": "https://localhost:8080/",
          "height": 68
        },
        "outputId": "3ad4dee4-9ae3-4afb-cc0f-ba803b19a3ca"
      },
      "source": [
        "score = model.evaluate(test['features'], tf.keras.utils.to_categorical(test['labels']))\n",
        "print('Test loss:', score[0])\n",
        "print('Test accuracy:', score[1])"
      ],
      "execution_count": 12,
      "outputs": [
        {
          "output_type": "stream",
          "text": [
            "10000/10000 [==============================] - 1s 94us/sample - loss: 0.0519 - accuracy: 0.9853\n",
            "Test loss: 0.05192004582037625\n",
            "Test accuracy: 0.9853\n"
          ],
          "name": "stdout"
        }
      ]
    },
    {
      "cell_type": "markdown",
      "metadata": {
        "id": "3wHczuyVUUvP",
        "colab_type": "text"
      },
      "source": [
        "## Salvando o modelo\n"
      ]
    },
    {
      "cell_type": "code",
      "metadata": {
        "id": "AdsIBJmgUZnA",
        "colab_type": "code",
        "colab": {}
      },
      "source": [
        "model.save('mnist_model.h5')"
      ],
      "execution_count": 0,
      "outputs": []
    },
    {
      "cell_type": "markdown",
      "metadata": {
        "id": "TzDvfV6RUZ0Q",
        "colab_type": "text"
      },
      "source": [
        "# Servindo Tensorboard"
      ]
    },
    {
      "cell_type": "markdown",
      "metadata": {
        "id": "3OUSPNXTuVKD",
        "colab_type": "text"
      },
      "source": [
        "## Baixando ngrok"
      ]
    },
    {
      "cell_type": "code",
      "metadata": {
        "id": "oC0buEj_uaWl",
        "colab_type": "code",
        "colab": {}
      },
      "source": [
        "!wget https://bin.equinox.io/c/4VmDzA7iaHb/ngrok-stable-linux-amd64.zip\n",
        "!unzip -o ngrok-stable-linux-amd64.zip"
      ],
      "execution_count": 0,
      "outputs": []
    },
    {
      "cell_type": "markdown",
      "metadata": {
        "id": "LQsP7FgKuRBw",
        "colab_type": "text"
      },
      "source": [
        "## Iniciando tunel"
      ]
    },
    {
      "cell_type": "code",
      "metadata": {
        "id": "3BDU7Bhbrw22",
        "colab_type": "code",
        "colab": {
          "base_uri": "https://localhost:8080/",
          "height": 34
        },
        "outputId": "237aeb67-f66a-407d-e967-c0fa27a0964d"
      },
      "source": [
        "get_ipython().system_raw('./ngrok http 6006 &')\n",
        "\n",
        "ngrok_url = !curl -s http://localhost:4040/api/tunnels | python -c \\\n",
        "    \"import sys, json; print(json.load(sys.stdin)['tunnels'][0]['public_url'])\"\n",
        "        \n",
        "ngrok_url = ngrok_url[0].replace(\"'\", '')\n",
        "print(ngrok_url)"
      ],
      "execution_count": 37,
      "outputs": [
        {
          "output_type": "stream",
          "text": [
            "https://9c183e89.ngrok.io\n"
          ],
          "name": "stdout"
        }
      ]
    },
    {
      "cell_type": "markdown",
      "metadata": {
        "id": "2VNw4H2NssxR",
        "colab_type": "text"
      },
      "source": [
        "## Iniciando Tensorboard"
      ]
    },
    {
      "cell_type": "code",
      "metadata": {
        "id": "yYtuTc5Lm8sH",
        "colab_type": "code",
        "colab": {
          "base_uri": "https://localhost:8080/",
          "height": 51
        },
        "outputId": "e5c0cf70-56bb-4007-fd5b-ea9d864e0364"
      },
      "source": [
        "# O correto era os comandos comentados, mas não tá funcionando \n",
        "#get_ipython().system_raw('!tensorboard --logdir {} --host 0.0.0.0 --port 6006 &'.format('./logs'))\n",
        "#from IPython.display import IFrame\n",
        "#IFrame(ngrok_url, width=700, height=900)\n",
        "\n",
        "# Este comando vai travar a pagina\n",
        "!tensorboard --logdir logs --host 0.0.0.0 --port 6006"
      ],
      "execution_count": 39,
      "outputs": [
        {
          "output_type": "stream",
          "text": [
            "TensorBoard 2.1.1 at http://0.0.0.0:6006/ (Press CTRL+C to quit)\n",
            "^C\n"
          ],
          "name": "stdout"
        }
      ]
    },
    {
      "cell_type": "code",
      "metadata": {
        "id": "C81cY65JTW0x",
        "colab_type": "code",
        "colab": {
          "base_uri": "https://localhost:8080/",
          "height": 921
        },
        "outputId": "b8ea1588-5202-4628-915c-f077e48f9e83"
      },
      "source": [
        ""
      ],
      "execution_count": 35,
      "outputs": [
        {
          "output_type": "execute_result",
          "data": {
            "text/html": [
              "\n",
              "        <iframe\n",
              "            width=\"700\"\n",
              "            height=\"900\"\n",
              "            src=\"http://d96c3a68.ngrok.io\"\n",
              "            frameborder=\"0\"\n",
              "            allowfullscreen\n",
              "        ></iframe>\n",
              "        "
            ],
            "text/plain": [
              "<IPython.lib.display.IFrame at 0x7f2bf1ecb3c8>"
            ]
          },
          "metadata": {
            "tags": []
          },
          "execution_count": 35
        }
      ]
    }
  ]
}