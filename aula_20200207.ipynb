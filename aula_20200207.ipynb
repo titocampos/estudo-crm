{
  "nbformat": 4,
  "nbformat_minor": 0,
  "metadata": {
    "colab": {
      "name": "aula_20200207.ipynb",
      "provenance": [],
      "collapsed_sections": [],
      "toc_visible": true,
      "authorship_tag": "ABX9TyNcYMNPg4z4mleA2oViHMjA",
      "include_colab_link": true
    },
    "kernelspec": {
      "name": "python3",
      "display_name": "Python 3"
    }
  },
  "cells": [
    {
      "cell_type": "markdown",
      "metadata": {
        "id": "view-in-github",
        "colab_type": "text"
      },
      "source": [
        "<a href=\"https://colab.research.google.com/github/titocampos/estudo-crm/blob/master/aula_20200207.ipynb\" target=\"_parent\"><img src=\"https://colab.research.google.com/assets/colab-badge.svg\" alt=\"Open In Colab\"/></a>"
      ]
    },
    {
      "cell_type": "markdown",
      "metadata": {
        "id": "3dMT29nbREYE",
        "colab_type": "text"
      },
      "source": [
        "# **Desafio Titanic**\n"
      ]
    },
    {
      "cell_type": "code",
      "metadata": {
        "id": "uBWOawThKrYr",
        "colab_type": "code",
        "colab": {}
      },
      "source": [
        "import numpy as np\n",
        "import pandas as pd\n",
        "import matplotlib.pyplot as plt\n",
        "from sklearn.metrics import classification_report\n",
        "from sklearn.model_selection import train_test_split\n",
        "\n",
        "%matplotlib inline\n",
        "plt.rcParams['figure.figsize'] = (12, 12)\n",
        "plt.rcParams['image.interpolation'] = 'nearest'\n",
        "plt.rcParams['image.cmap'] = 'gray'"
      ],
      "execution_count": 0,
      "outputs": []
    },
    {
      "cell_type": "markdown",
      "metadata": {
        "id": "2vp2QiNsLLxp",
        "colab_type": "text"
      },
      "source": [
        "Para usar a API do Kaggle, inscreva-se em uma conta do Kaggle em https://www.kaggle.com. Em seguida, vá para a guia 'Conta' do seu perfil de usuário (https://www.kaggle.com/<nome do usuário>/account) e selecione 'Criar token da API'. Isso acionará o download do kaggle.json, um arquivo que contém suas credenciais da API. Salve este aquivo no disco local. Após rode a celula abaixo para fazer o upload do arquivo para o Colab."
      ]
    },
    {
      "cell_type": "code",
      "metadata": {
        "id": "8EiqHQgyLMA_",
        "colab_type": "code",
        "colab": {
          "resources": {
            "http://localhost:8080/nbextensions/google.colab/files.js": {
              "data": "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",
              "ok": true,
              "headers": [
                [
                  "content-type",
                  "application/javascript"
                ]
              ],
              "status": 200,
              "status_text": ""
            }
          },
          "base_uri": "https://localhost:8080/",
          "height": 92
        },
        "outputId": "4c8bb829-6060-4aa6-b17e-04e1bd685d19"
      },
      "source": [
        "from google.colab import files\n",
        "files.upload()"
      ],
      "execution_count": 3,
      "outputs": [
        {
          "output_type": "display_data",
          "data": {
            "text/html": [
              "\n",
              "     <input type=\"file\" id=\"files-86405828-f7e7-4402-9f17-4cae3839928d\" name=\"files[]\" multiple disabled />\n",
              "     <output id=\"result-86405828-f7e7-4402-9f17-4cae3839928d\">\n",
              "      Upload widget is only available when the cell has been executed in the\n",
              "      current browser session. Please rerun this cell to enable.\n",
              "      </output>\n",
              "      <script src=\"/nbextensions/google.colab/files.js\"></script> "
            ],
            "text/plain": [
              "<IPython.core.display.HTML object>"
            ]
          },
          "metadata": {
            "tags": []
          }
        },
        {
          "output_type": "stream",
          "text": [
            "Saving kaggle.json to kaggle.json\n"
          ],
          "name": "stdout"
        },
        {
          "output_type": "execute_result",
          "data": {
            "text/plain": [
              "{'kaggle.json': b'{\"username\":\"titocampos\",\"key\":\"d5658011dda10356de46c101b9286867\"}'}"
            ]
          },
          "metadata": {
            "tags": []
          },
          "execution_count": 3
        }
      ]
    },
    {
      "cell_type": "markdown",
      "metadata": {
        "id": "QzLhU4F1Rivi",
        "colab_type": "text"
      },
      "source": [
        "Após carregar o arquivo da Api execute os comandos abaixo para o download dos arquivos do desafio. É necessário que voce tenha aceito os termos do desafio, anteriormente em <https://www.kaggle.com/c/titanic/rules>.\n"
      ]
    },
    {
      "cell_type": "code",
      "metadata": {
        "id": "PJc301bMMRmY",
        "colab_type": "code",
        "colab": {
          "base_uri": "https://localhost:8080/",
          "height": 210
        },
        "outputId": "88017bfb-5e4f-4ce7-d5ed-dca7f147ac98"
      },
      "source": [
        "!pip install -U -q kaggle\n",
        "!mkdir -p ~/.kaggle\n",
        "!mv kaggle.json ~/.kaggle/\n",
        "!chmod 600 /root/.kaggle/kaggle.json\n",
        "!kaggle competitions download -c titanic\n",
        "!rm -rf ~/.kaggle/"
      ],
      "execution_count": 4,
      "outputs": [
        {
          "output_type": "stream",
          "text": [
            "Warning: Looks like you're using an outdated API Version, please consider updating (server 1.5.6 / client 1.5.4)\n",
            "Downloading train.csv to /content\n",
            "  0% 0.00/59.8k [00:00<?, ?B/s]\n",
            "100% 59.8k/59.8k [00:00<00:00, 23.1MB/s]\n",
            "Downloading gender_submission.csv to /content\n",
            "  0% 0.00/3.18k [00:00<?, ?B/s]\n",
            "100% 3.18k/3.18k [00:00<00:00, 2.77MB/s]\n",
            "Downloading test.csv to /content\n",
            "  0% 0.00/28.0k [00:00<?, ?B/s]\n",
            "100% 28.0k/28.0k [00:00<00:00, 26.3MB/s]\n"
          ],
          "name": "stdout"
        }
      ]
    },
    {
      "cell_type": "markdown",
      "metadata": {
        "id": "sqpEy0xcRqNW",
        "colab_type": "text"
      },
      "source": [
        "Montando o arquivo para envio da baseline"
      ]
    },
    {
      "cell_type": "code",
      "metadata": {
        "id": "N_PMfTlyQ84x",
        "colab_type": "code",
        "colab": {}
      },
      "source": [
        "!pwd\n",
        "!ls -l\n",
        "df_test = pd.read_csv(\"test.csv\")\n",
        "\n",
        "df_test.head()"
      ],
      "execution_count": 0,
      "outputs": []
    },
    {
      "cell_type": "code",
      "metadata": {
        "id": "ikubZpHTSeu_",
        "colab_type": "code",
        "colab": {}
      },
      "source": [
        "df_test[\"Survived\"] = np.logical_or(df_test[\"Sex\"]==\"female\", df_test[\"Age\"]<=12) * 1\n",
        "df_test.head(10)"
      ],
      "execution_count": 0,
      "outputs": []
    },
    {
      "cell_type": "code",
      "metadata": {
        "id": "a0ch1LTdT7mv",
        "colab_type": "code",
        "colab": {}
      },
      "source": [
        "df_base = df_test[['PassengerId', 'Survived']]\n",
        "df_base.head(10)"
      ],
      "execution_count": 0,
      "outputs": []
    },
    {
      "cell_type": "code",
      "metadata": {
        "id": "B6ZNL1sVVS_d",
        "colab_type": "code",
        "colab": {}
      },
      "source": [
        "df_base.to_csv(\"gender_submission.csv\", index=False)"
      ],
      "execution_count": 0,
      "outputs": []
    },
    {
      "cell_type": "markdown",
      "metadata": {
        "id": "rF0NNjLLWV4k",
        "colab_type": "text"
      },
      "source": [
        "Subindo este arquivo para o Kaggle devemos atingir uma acurácia de 77%.\n"
      ]
    },
    {
      "cell_type": "markdown",
      "metadata": {
        "id": "--xZem8VYcvv",
        "colab_type": "text"
      },
      "source": [
        "##**Primeiro modelo**\n",
        "\n",
        "Random forest <https://medium.com/machina-sapiens/o-algoritmo-da-floresta-aleat%C3%B3ria-3545f6babdf8>\n"
      ]
    },
    {
      "cell_type": "code",
      "metadata": {
        "id": "oeOw-mWeYjar",
        "colab_type": "code",
        "colab": {}
      },
      "source": [
        "from sklearn.ensemble import RandomForestClassifier\n",
        "\n",
        "modelo = RandomForestClassifier(n_estimators=100, n_jobs=-1, random_state=0)\n",
        "variaveis = ['Sex_binario', 'Age', 'Pclass']\n",
        "df_train = pd.read_csv(\"train.csv\")\n",
        "df_test = pd.read_csv(\"test.csv\")\n",
        "\n",
        "df_train.head(10)"
      ],
      "execution_count": 0,
      "outputs": []
    },
    {
      "cell_type": "markdown",
      "metadata": {
        "id": "oVnONdowfUae",
        "colab_type": "text"
      },
      "source": [
        "Precisamos adequar nossa variavel categorica sexo, para isso vamos criar uma funcao para essa transformação "
      ]
    },
    {
      "cell_type": "code",
      "metadata": {
        "id": "wjjQIYWffQz7",
        "colab_type": "code",
        "colab": {}
      },
      "source": [
        "def transformar_sexo(valor):\n",
        "  if valor == 'female':\n",
        "    return 1\n",
        "  else: \n",
        "    return 0"
      ],
      "execution_count": 0,
      "outputs": []
    },
    {
      "cell_type": "code",
      "metadata": {
        "id": "klb78QcXf7Y8",
        "colab_type": "code",
        "outputId": "fda51f8c-6840-4fa2-e8d4-6be52962b48e",
        "colab": {
          "base_uri": "https://localhost:8080/",
          "height": 70
        }
      },
      "source": [
        "df_train['Sex'].value_counts()"
      ],
      "execution_count": 0,
      "outputs": [
        {
          "output_type": "execute_result",
          "data": {
            "text/plain": [
              "male      577\n",
              "female    314\n",
              "Name: Sex, dtype: int64"
            ]
          },
          "metadata": {
            "tags": []
          },
          "execution_count": 32
        }
      ]
    },
    {
      "cell_type": "code",
      "metadata": {
        "id": "wPAeOzcmgE7y",
        "colab_type": "code",
        "colab": {}
      },
      "source": [
        "df_train['Sex_binario'] = df_train['Sex'].map(transformar_sexo)\n",
        "df_test['Sex_binario'] = df_test['Sex'].map(transformar_sexo)\n",
        "df_train.head(10)"
      ],
      "execution_count": 0,
      "outputs": []
    },
    {
      "cell_type": "code",
      "metadata": {
        "id": "c0VlFMVvg2Pv",
        "colab_type": "code",
        "outputId": "b620c056-b1f4-453f-db60-679685a2faf7",
        "colab": {
          "base_uri": "https://localhost:8080/",
          "height": 158
        }
      },
      "source": [
        "X = df_train[variaveis]\n",
        "X = X.fillna(-1)\n",
        "y = df_train['Survived']\n",
        "\n",
        "modelo.fit(X, y)"
      ],
      "execution_count": 0,
      "outputs": [
        {
          "output_type": "execute_result",
          "data": {
            "text/plain": [
              "RandomForestClassifier(bootstrap=True, ccp_alpha=0.0, class_weight=None,\n",
              "                       criterion='gini', max_depth=None, max_features='auto',\n",
              "                       max_leaf_nodes=None, max_samples=None,\n",
              "                       min_impurity_decrease=0.0, min_impurity_split=None,\n",
              "                       min_samples_leaf=1, min_samples_split=2,\n",
              "                       min_weight_fraction_leaf=0.0, n_estimators=100,\n",
              "                       n_jobs=-1, oob_score=False, random_state=0, verbose=0,\n",
              "                       warm_start=False)"
            ]
          },
          "metadata": {
            "tags": []
          },
          "execution_count": 121
        }
      ]
    },
    {
      "cell_type": "code",
      "metadata": {
        "id": "wLMHQH0IhzAQ",
        "colab_type": "code",
        "colab": {}
      },
      "source": [
        "\n",
        "df_prev = df_test[variaveis]\n",
        "df_prev = df_prev.fillna(-1)\n",
        "\n",
        "p = modelo.predict(df_prev)\n",
        "p"
      ],
      "execution_count": 0,
      "outputs": []
    },
    {
      "cell_type": "markdown",
      "metadata": {
        "id": "T7wGcv4ljJMg",
        "colab_type": "text"
      },
      "source": [
        "Montando o arquivo para submissão"
      ]
    },
    {
      "cell_type": "code",
      "metadata": {
        "id": "u7BYIKrZjNGQ",
        "colab_type": "code",
        "colab": {}
      },
      "source": [
        "df_sub = pd.Series(p, index=df_test[\"PassengerId\"], name=\"Survived\")\n",
        "df_sub.to_csv(\"modelo1.csv\", header=True)\n",
        "!head -n10 modelo1.csv"
      ],
      "execution_count": 0,
      "outputs": []
    },
    {
      "cell_type": "markdown",
      "metadata": {
        "id": "5JawflOaowZy",
        "colab_type": "text"
      },
      "source": [
        "Subindo este arquivo para o Kaggle vemos que não conseguimos melhorar a acurácia, na realidade piorou 72.7%."
      ]
    },
    {
      "cell_type": "markdown",
      "metadata": {
        "id": "pgZnC-1OpBuD",
        "colab_type": "text"
      },
      "source": [
        "## **Treino e validação**\n"
      ]
    },
    {
      "cell_type": "code",
      "metadata": {
        "id": "ojCJOApupJJP",
        "colab_type": "code",
        "colab": {}
      },
      "source": [
        "from sklearn.model_selection import train_test_split\n",
        "\n",
        "X_falso = np.arange(10)\n",
        "X_falso"
      ],
      "execution_count": 0,
      "outputs": []
    },
    {
      "cell_type": "code",
      "metadata": {
        "id": "pAvJhBTVqVSv",
        "colab_type": "code",
        "colab": {}
      },
      "source": [
        "train_test_split(X_falso, test_size=.40, random_state=0)"
      ],
      "execution_count": 0,
      "outputs": []
    },
    {
      "cell_type": "code",
      "metadata": {
        "id": "oPmzzgILrb3G",
        "colab_type": "code",
        "colab": {}
      },
      "source": [
        "X_train, X_valid, y_train, y_valid = train_test_split(X, y, test_size=.50, random_state=0) #.50 por ter poucos dados"
      ],
      "execution_count": 0,
      "outputs": []
    },
    {
      "cell_type": "code",
      "metadata": {
        "id": "zR1Qpcvcr-oi",
        "colab_type": "code",
        "colab": {}
      },
      "source": [
        "modelo.fit(X_train, y_train)\n",
        "p = modelo.predict(X_valid)\n"
      ],
      "execution_count": 0,
      "outputs": []
    },
    {
      "cell_type": "markdown",
      "metadata": {
        "id": "NaxGUin6155G",
        "colab_type": "text"
      },
      "source": [
        "Validando a acurária"
      ]
    },
    {
      "cell_type": "code",
      "metadata": {
        "id": "FGCkO0K319nV",
        "colab_type": "code",
        "colab": {}
      },
      "source": [
        "np.mean(y_valid == p)"
      ],
      "execution_count": 0,
      "outputs": []
    },
    {
      "cell_type": "code",
      "metadata": {
        "id": "F8iXvCeK2ahQ",
        "colab_type": "code",
        "outputId": "bd34e136-e205-4972-caef-66c0f9f90acf",
        "colab": {
          "base_uri": "https://localhost:8080/",
          "height": 34
        }
      },
      "source": [
        "#Avaliando a baseline\n",
        "p = (X_valid[\"Sex_binario\"]==1).astype(np.int64)\n",
        "np.mean(y_valid == p)"
      ],
      "execution_count": 0,
      "outputs": [
        {
          "output_type": "execute_result",
          "data": {
            "text/plain": [
              "0.7825112107623319"
            ]
          },
          "metadata": {
            "tags": []
          },
          "execution_count": 82
        }
      ]
    },
    {
      "cell_type": "markdown",
      "metadata": {
        "id": "FGIxwXPD4fZF",
        "colab_type": "text"
      },
      "source": [
        "## **Validação cruzada**\n"
      ]
    },
    {
      "cell_type": "code",
      "metadata": {
        "id": "ol0iHrNz4mHn",
        "colab_type": "code",
        "colab": {}
      },
      "source": [
        "from sklearn.model_selection import RepeatedKFold, KFold\n",
        "kf = KFold(3, shuffle=True, random_state = 0)\n",
        "for linhas_treino, linhas_valid in kf.split(X_falso):\n",
        "  print(\"Treino\", linhas_treino)\n",
        "  print(\"Validacao\", linhas_valid)  "
      ],
      "execution_count": 0,
      "outputs": []
    },
    {
      "cell_type": "code",
      "metadata": {
        "id": "TZzCR5gy58sZ",
        "colab_type": "code",
        "colab": {}
      },
      "source": [
        "kf = RepeatedKFold(n_splits=2, n_repeats=10, random_state = 0)\n",
        "resultados=[]\n",
        "for linhas_treino, linhas_valid in kf.split(X):\n",
        "  X_train, X_valid = X.iloc[linhas_treino], X.iloc[linhas_valid]\n",
        "  y_train, y_valid = y.iloc[linhas_treino], y.iloc[linhas_valid]\n",
        "  \n",
        "  modelo = RandomForestClassifier(n_estimators=100, n_jobs=-1, random_state=0)\n",
        "  modelo.fit(X_train, y_train)\n",
        "  p = modelo.predict(X_valid)\n",
        "  \n",
        "  acc = np.mean(y_valid == p)\n",
        "  resultados.append(acc)\n",
        "  print(\"Acc:\", acc)\n",
        "\n",
        "np.mean(resultados)"
      ],
      "execution_count": 0,
      "outputs": []
    },
    {
      "cell_type": "code",
      "metadata": {
        "id": "NAle4kEXBOKx",
        "colab_type": "code",
        "colab": {}
      },
      "source": [
        "plt.hist(resultados)"
      ],
      "execution_count": 0,
      "outputs": []
    },
    {
      "cell_type": "markdown",
      "metadata": {
        "id": "qoMgNEPxQTjn",
        "colab_type": "text"
      },
      "source": [
        "## **Segundo modelo**"
      ]
    },
    {
      "cell_type": "code",
      "metadata": {
        "id": "VHu9MgMhP0IK",
        "colab_type": "code",
        "colab": {}
      },
      "source": [
        "#acuracia anterio 0.77\n",
        "variaveis = ['Sex_binario', 'Age', 'Pclass', 'SibSp', 'Parch', 'Fare']\n",
        "\n",
        "X = df_train[variaveis].fillna(-1)\n",
        "y = df_train['Survived']"
      ],
      "execution_count": 0,
      "outputs": []
    },
    {
      "cell_type": "code",
      "metadata": {
        "id": "Y3YXd0frQ3RU",
        "colab_type": "code",
        "colab": {}
      },
      "source": [
        "kf = RepeatedKFold(n_splits=2, n_repeats=10, random_state = 0)\n",
        "resultados=[]\n",
        "for linhas_treino, linhas_valid in kf.split(X):\n",
        "  X_train, X_valid = X.iloc[linhas_treino], X.iloc[linhas_valid]\n",
        "  y_train, y_valid = y.iloc[linhas_treino], y.iloc[linhas_valid]\n",
        "  \n",
        "  modelo = RandomForestClassifier(n_estimators=300, n_jobs=-1, random_state=0)\n",
        "  modelo.fit(X_train, y_train)\n",
        "  p = modelo.predict(X_valid)\n",
        "  \n",
        "  acc = np.mean(y_valid == p)\n",
        "  resultados.append(acc)\n",
        "  print(\"Acc:\", acc)\n",
        "\n",
        "np.mean(resultados)\n",
        "plt.hist(resultados)"
      ],
      "execution_count": 0,
      "outputs": []
    },
    {
      "cell_type": "markdown",
      "metadata": {
        "id": "zuv3YkrfRp9U",
        "colab_type": "text"
      },
      "source": [
        "## **Retreinar o modelo**\n"
      ]
    },
    {
      "cell_type": "code",
      "metadata": {
        "id": "1VpIQLA9RxuW",
        "colab_type": "code",
        "colab": {}
      },
      "source": [
        " modelo = RandomForestClassifier(n_estimators=300, n_jobs=-1, random_state=0)\n",
        " modelo.fit(X, y)\n",
        "\n",
        " p = modelo.predict(df_test[variaveis].fillna(-1))\n",
        " p"
      ],
      "execution_count": 0,
      "outputs": []
    },
    {
      "cell_type": "code",
      "metadata": {
        "id": "C3Q1k4wkSvdD",
        "colab_type": "code",
        "colab": {}
      },
      "source": [
        "df_sub = pd.Series(p, index=df_test[\"PassengerId\"], name=\"Survived\")\n",
        "df_sub.to_csv(\"modelo2.csv\", header=True)\n",
        "!head -n10 modelo2.csv"
      ],
      "execution_count": 0,
      "outputs": []
    },
    {
      "cell_type": "markdown",
      "metadata": {
        "id": "BVtD81BvgmEV",
        "colab_type": "text"
      },
      "source": [
        "## **Possiveis variaveis**"
      ]
    },
    {
      "cell_type": "code",
      "metadata": {
        "id": "1ALnUTGQgsEb",
        "colab_type": "code",
        "colab": {}
      },
      "source": [
        "df_train['Embarked_S'] = (df_train['Embarked'] == 'S').astype(int)\n",
        "df_train['Embarked_C'] = (df_train['Embarked'] == 'C').astype(int)\n",
        "#df_train['Embarked_Q'] = (df_train['Embarked'] == 'Q').astype(int)\n",
        "\n",
        "df_train['Cabine_nula'] = df_train['Cabin'].isnull().astype(int)\n",
        "\n",
        "df_train['Miss'] = df_train['Name'].str.contains('Miss').astype(int)\n",
        "df_train['Mrs'] = df_train['Name'].str.contains('Mrs').astype(int)\n",
        "df_train['Master'] = df_train['Name'].str.contains('Master').astype(int)\n",
        "df_train['Col'] = df_train['Name'].str.contains('Col').astype(int)\n",
        "df_train['Major'] = df_train['Name'].str.contains('Major').astype(int)\n",
        "df_train['Mr'] = df_train['Name'].str.contains('Mr').astype(int)\n",
        "df_train"
      ],
      "execution_count": 0,
      "outputs": []
    },
    {
      "cell_type": "code",
      "metadata": {
        "id": "6fAWuaGUjWm_",
        "colab_type": "code",
        "colab": {}
      },
      "source": [
        "variaveis = ['Sex_binario', 'Age', 'Pclass', 'SibSp', 'Parch', 'Fare', \n",
        "             'Embarked_S', 'Embarked_C', 'Cabine_nula', 'Miss', 'Mrs',\n",
        "             'Master', 'Col', 'Major', 'Mr']\n",
        "\n",
        "X = df_train[variaveis].fillna(-1)\n",
        "y = df_train['Survived']"
      ],
      "execution_count": 0,
      "outputs": []
    },
    {
      "cell_type": "code",
      "metadata": {
        "id": "Bgpn2z7sj46B",
        "colab_type": "code",
        "colab": {}
      },
      "source": [
        "resultados=[]\n",
        "kf = RepeatedKFold(n_splits=2, n_repeats=10, random_state = 0)\n",
        "for linhas_treino, linhas_valid in kf.split(X):\n",
        "  X_train, X_valid = X.iloc[linhas_treino], X.iloc[linhas_valid]\n",
        "  y_train, y_valid = y.iloc[linhas_treino], y.iloc[linhas_valid]\n",
        "  \n",
        "  modelo = RandomForestClassifier(n_estimators=300, n_jobs=-1, random_state=0)\n",
        "  modelo.fit(X_train, y_train)\n",
        "  p = modelo.predict(X_valid)\n",
        "  \n",
        "  acc = np.mean(y_valid == p)\n",
        "  resultados.append(acc)\n",
        "  print(\"Acc:\", acc)\n",
        "\n",
        "np.mean(resultados)\n",
        "plt.hist(resultados)"
      ],
      "execution_count": 0,
      "outputs": []
    },
    {
      "cell_type": "code",
      "metadata": {
        "id": "S8Ysm4allbSu",
        "colab_type": "code",
        "colab": {}
      },
      "source": [
        "df_test['Embarked_S'] = (df_test['Embarked'] == 'S').astype(int)\n",
        "df_test['Embarked_C'] = (df_test['Embarked'] == 'C').astype(int)\n",
        "#df_test['Embarked_Q'] = (df_test['Embarked'] == 'Q').astype(int)\n",
        "\n",
        "df_test['Cabine_nula'] = df_test['Cabin'].isnull().astype(int)\n",
        "\n",
        "df_test['Miss'] = df_test['Name'].str.contains('Miss').astype(int)\n",
        "df_test['Mrs'] = df_test['Name'].str.contains('Mrs').astype(int)\n",
        "df_test['Master'] = df_test['Name'].str.contains('Master').astype(int)\n",
        "df_test['Col'] = df_test['Name'].str.contains('Col').astype(int)\n",
        "df_test['Major'] = df_test['Name'].str.contains('Major').astype(int)\n",
        "df_test['Mr'] = df_test['Name'].str.contains('Mr').astype(int)\n",
        "\n",
        "modelo = RandomForestClassifier(n_estimators=300, n_jobs=-1, random_state=0)\n",
        "modelo.fit(X, y)\n",
        "\n",
        "p = modelo.predict(df_test[variaveis].fillna(-1))\n",
        "p\n"
      ],
      "execution_count": 0,
      "outputs": []
    },
    {
      "cell_type": "code",
      "metadata": {
        "id": "JhVybygjl-O3",
        "colab_type": "code",
        "colab": {}
      },
      "source": [
        "df_sub = pd.Series(p, index=df_test[\"PassengerId\"], name=\"Survived\")\n",
        "df_sub.to_csv(\"modelo3.csv\", header=True)\n",
        "!head -n10 modelo3.csv"
      ],
      "execution_count": 0,
      "outputs": []
    },
    {
      "cell_type": "markdown",
      "metadata": {
        "id": "RnSOCqWom8uV",
        "colab_type": "text"
      },
      "source": [
        ""
      ]
    },
    {
      "cell_type": "code",
      "metadata": {
        "id": "qZ-kd15fm7Bt",
        "colab_type": "code",
        "outputId": "3ff73e43-948f-4639-88bb-71566f7c8438",
        "colab": {
          "base_uri": "https://localhost:8080/",
          "height": 122
        }
      },
      "source": [
        "from sklearn.tree import DecisionTreeClassifier\n",
        "\n",
        "modelo = DecisionTreeClassifier(max_depth= 10, min_samples_leaf=5)\n",
        "modelo.fit(X, y)"
      ],
      "execution_count": 0,
      "outputs": [
        {
          "output_type": "execute_result",
          "data": {
            "text/plain": [
              "DecisionTreeClassifier(ccp_alpha=0.0, class_weight=None, criterion='gini',\n",
              "                       max_depth=10, max_features=None, max_leaf_nodes=None,\n",
              "                       min_impurity_decrease=0.0, min_impurity_split=None,\n",
              "                       min_samples_leaf=5, min_samples_split=2,\n",
              "                       min_weight_fraction_leaf=0.0, presort='deprecated',\n",
              "                       random_state=None, splitter='best')"
            ]
          },
          "metadata": {
            "tags": []
          },
          "execution_count": 144
        }
      ]
    },
    {
      "cell_type": "code",
      "metadata": {
        "id": "xSOrTJrPnU4b",
        "colab_type": "code",
        "colab": {}
      },
      "source": [
        "p = modelo.predict(df_test[variaveis].fillna(-1))\n",
        "\n",
        "df_sub = pd.Series(p, index=df_test[\"PassengerId\"], name=\"Survived\")\n",
        "df_sub.to_csv(\"modelo5.csv\", header=True)\n",
        "!head -n10 modelo5.csv"
      ],
      "execution_count": 0,
      "outputs": []
    },
    {
      "cell_type": "code",
      "metadata": {
        "id": "sJlpIE_wt9O1",
        "colab_type": "code",
        "colab": {}
      },
      "source": [
        "df_train['Embarked_S'] = (df_train['Embarked'] == 'S').astype(int)\n",
        "df_train['Embarked_C'] = (df_train['Embarked'] == 'C').astype(int)\n",
        "#df_train['Embarked_Q'] = (df_train['Embarked'] == 'Q').astype(int)\n",
        "\n",
        "df_train['Cabine_nula'] = df_train['Cabin'].isnull().astype(int)\n",
        "\n",
        "df_train['Miss'] = df_train['Name'].str.contains('Miss').astype(int)\n",
        "df_train['Mrs'] = df_train['Name'].str.contains('Mrs').astype(int)\n",
        "df_train['Master'] = df_train['Name'].str.contains('Master').astype(int)\n",
        "df_train['Col'] = df_train['Name'].str.contains('Col').astype(int)\n",
        "df_train['Major'] = df_train['Name'].str.contains('Major').astype(int)\n",
        "df_train['Mr'] = df_train['Name'].str.contains('Mr').astype(int)\n",
        "\n",
        "df_test['Embarked_S'] = (df_test['Embarked'] == 'S').astype(int)\n",
        "df_test['Embarked_C'] = (df_test['Embarked'] == 'C').astype(int)\n",
        "#df_test['Embarked_Q'] = (df_test['Embarked'] == 'Q').astype(int)\n",
        "\n",
        "df_test['Cabine_nula'] = df_test['Cabin'].isnull().astype(int)\n",
        "\n",
        "df_test['Miss'] = df_test['Name'].str.contains('Miss').astype(int)\n",
        "df_test['Mrs'] = df_test['Name'].str.contains('Mrs').astype(int)\n",
        "df_test['Master'] = df_test['Name'].str.contains('Master').astype(int)\n",
        "df_test['Col'] = df_test['Name'].str.contains('Col').astype(int)\n",
        "df_test['Major'] = df_test['Name'].str.contains('Major').astype(int)\n",
        "df_test['Mr'] = df_test['Name'].str.contains('Mr').astype(int)\n",
        "\n",
        "variaveis = ['Sex_binario', 'Age', 'Pclass', 'SibSp', 'Parch', 'Fare', \n",
        "             'Embarked_S', 'Embarked_C', 'Cabine_nula', 'Miss', 'Mrs',\n",
        "             'Master', 'Col', 'Major', 'Mr']\n",
        "\n",
        "X = df_train[variaveis].fillna(-1)\n",
        "y = df_train['Survived']\n",
        "\n",
        "from sklearn.linear_model import LinearRegression\n",
        "modelo = LinearRegression()\n",
        "modelo.fit(X, y)\n",
        "\n",
        "\n",
        "p = modelo.predict(df_test[variaveis].fillna(-1))\n",
        "p = (p > 0.7).astype(int)\n",
        "df_sub = pd.Series(p, index=df_test[\"PassengerId\"], name=\"Survived\")\n",
        "df_sub.to_csv(\"modelo6.csv\", header=True)\n",
        "!head -n10 modelo6.csv\n",
        "\n",
        "\n",
        "#ver https://www.kaggle.com/paulorzp/titanic-gp-model-training"
      ],
      "execution_count": 0,
      "outputs": []
    }
  ]
}