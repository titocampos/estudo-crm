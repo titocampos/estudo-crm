{
  "nbformat": 4,
  "nbformat_minor": 0,
  "metadata": {
    "colab": {
      "name": "aula_20200207.ipynb",
      "provenance": [],
      "collapsed_sections": [],
      "toc_visible": true,
      "authorship_tag": "ABX9TyP6COYu5imEpTt62q/sbU9h",
      "include_colab_link": true
    },
    "kernelspec": {
      "name": "python3",
      "display_name": "Python 3"
    }
  },
  "cells": [
    {
      "cell_type": "markdown",
      "metadata": {
        "id": "view-in-github",
        "colab_type": "text"
      },
      "source": [
        "<a href=\"https://colab.research.google.com/github/titocampos/estudo-crm/blob/master/aula_20200207.ipynb\" target=\"_parent\"><img src=\"https://colab.research.google.com/assets/colab-badge.svg\" alt=\"Open In Colab\"/></a>"
      ]
    },
    {
      "cell_type": "markdown",
      "metadata": {
        "id": "3dMT29nbREYE",
        "colab_type": "text"
      },
      "source": [
        "# **Desafio Titanic**\n"
      ]
    },
    {
      "cell_type": "code",
      "metadata": {
        "id": "uBWOawThKrYr",
        "colab_type": "code",
        "colab": {}
      },
      "source": [
        "import numpy as np\n",
        "import pandas as pd\n",
        "import matplotlib.pyplot as plt\n",
        "from sklearn.metrics import classification_report\n",
        "from sklearn.model_selection import train_test_split\n",
        "\n",
        "%matplotlib inline\n",
        "plt.rcParams['figure.figsize'] = (12, 12)\n",
        "plt.rcParams['image.interpolation'] = 'nearest'\n",
        "plt.rcParams['image.cmap'] = 'gray'"
      ],
      "execution_count": 0,
      "outputs": []
    },
    {
      "cell_type": "markdown",
      "metadata": {
        "id": "2vp2QiNsLLxp",
        "colab_type": "text"
      },
      "source": [
        "Para usar a API do Kaggle, inscreva-se em uma conta do Kaggle em https://www.kaggle.com. Em seguida, vá para a guia 'Conta' do seu perfil de usuário (https://www.kaggle.com/<nome do usuário>/account) e selecione 'Criar token da API'. Isso acionará o download do kaggle.json, um arquivo que contém suas credenciais da API. Salve este aquivo no disco local. Após rode a celula abaixo para fazer o upload do arquivo para o Colab."
      ]
    },
    {
      "cell_type": "code",
      "metadata": {
        "id": "8EiqHQgyLMA_",
        "colab_type": "code",
        "colab": {}
      },
      "source": [
        "from google.colab import files\n",
        "files.upload()"
      ],
      "execution_count": 0,
      "outputs": []
    },
    {
      "cell_type": "markdown",
      "metadata": {
        "id": "QzLhU4F1Rivi",
        "colab_type": "text"
      },
      "source": [
        "Após carregar o arquivo da Api execute os comandos abaixo para o download dos arquivos do desafio."
      ]
    },
    {
      "cell_type": "code",
      "metadata": {
        "id": "PJc301bMMRmY",
        "colab_type": "code",
        "colab": {}
      },
      "source": [
        "!pip install -U -q kaggle\n",
        "!mkdir -p ~/.kaggle\n",
        "!mv kaggle.json ~/.kaggle/\n",
        "!chmod 600 /root/.kaggle/kaggle.json\n",
        "!kaggle competitions download -c titanic\n",
        "!rm -rf ~/.kaggle/"
      ],
      "execution_count": 0,
      "outputs": []
    },
    {
      "cell_type": "markdown",
      "metadata": {
        "id": "sqpEy0xcRqNW",
        "colab_type": "text"
      },
      "source": [
        "Montando o arquivo para envio da baseline"
      ]
    },
    {
      "cell_type": "code",
      "metadata": {
        "id": "N_PMfTlyQ84x",
        "colab_type": "code",
        "colab": {}
      },
      "source": [
        "!pwd\n",
        "!ls -l\n",
        "df_test = pd.read_csv(\"test.csv\")\n",
        "\n",
        "df_test.head()"
      ],
      "execution_count": 0,
      "outputs": []
    },
    {
      "cell_type": "code",
      "metadata": {
        "id": "ikubZpHTSeu_",
        "colab_type": "code",
        "colab": {}
      },
      "source": [
        "df_test[\"Survived\"] = np.logical_or(df_test[\"Sex\"]==\"female\", df_test[\"Age\"]<=12) * 1\n",
        "df_test.head(10)"
      ],
      "execution_count": 0,
      "outputs": []
    },
    {
      "cell_type": "code",
      "metadata": {
        "id": "a0ch1LTdT7mv",
        "colab_type": "code",
        "colab": {}
      },
      "source": [
        "df_base = df_test[['PassengerId', 'Survived']]\n",
        "df_base.head(10)"
      ],
      "execution_count": 0,
      "outputs": []
    },
    {
      "cell_type": "code",
      "metadata": {
        "id": "B6ZNL1sVVS_d",
        "colab_type": "code",
        "colab": {}
      },
      "source": [
        "df_base.to_csv(\"gender_submission.csv\", index=False)"
      ],
      "execution_count": 0,
      "outputs": []
    },
    {
      "cell_type": "markdown",
      "metadata": {
        "id": "rF0NNjLLWV4k",
        "colab_type": "text"
      },
      "source": [
        "Subindo este arquivo para o Kaggle devemos atingir uma acurácia de 77%.\n"
      ]
    },
    {
      "cell_type": "markdown",
      "metadata": {
        "id": "--xZem8VYcvv",
        "colab_type": "text"
      },
      "source": [
        "##**Primeiro modelo**\n",
        "\n",
        "Random forest <https://medium.com/machina-sapiens/o-algoritmo-da-floresta-aleat%C3%B3ria-3545f6babdf8>\n"
      ]
    },
    {
      "cell_type": "code",
      "metadata": {
        "id": "oeOw-mWeYjar",
        "colab_type": "code",
        "colab": {}
      },
      "source": [
        "from sklearn.ensemble import RandomForestClassifier\n",
        "\n",
        "modelo = RandomForestClassifier(n_estimators=100, n_jobs=-1, random_state=0)\n",
        "variaveis = ['Sex_binario', 'Age', 'Pclass']\n",
        "df_train = pd.read_csv(\"train.csv\")\n",
        "df_test = pd.read_csv(\"test.csv\")\n",
        "\n",
        "df_train.head(10)"
      ],
      "execution_count": 0,
      "outputs": []
    },
    {
      "cell_type": "markdown",
      "metadata": {
        "id": "oVnONdowfUae",
        "colab_type": "text"
      },
      "source": [
        "Precisamos adequar nossa variavel categorica sexo, para isso vamos criar uma funcao para essa transformação "
      ]
    },
    {
      "cell_type": "code",
      "metadata": {
        "id": "wjjQIYWffQz7",
        "colab_type": "code",
        "colab": {}
      },
      "source": [
        "def transformar_sexo(valor):\n",
        "  if valor == 'female':\n",
        "    return 1\n",
        "  else: \n",
        "    return 0"
      ],
      "execution_count": 0,
      "outputs": []
    },
    {
      "cell_type": "code",
      "metadata": {
        "id": "klb78QcXf7Y8",
        "colab_type": "code",
        "outputId": "fda51f8c-6840-4fa2-e8d4-6be52962b48e",
        "colab": {
          "base_uri": "https://localhost:8080/",
          "height": 70
        }
      },
      "source": [
        "df_train['Sex'].value_counts()"
      ],
      "execution_count": 0,
      "outputs": [
        {
          "output_type": "execute_result",
          "data": {
            "text/plain": [
              "male      577\n",
              "female    314\n",
              "Name: Sex, dtype: int64"
            ]
          },
          "metadata": {
            "tags": []
          },
          "execution_count": 32
        }
      ]
    },
    {
      "cell_type": "code",
      "metadata": {
        "id": "wPAeOzcmgE7y",
        "colab_type": "code",
        "colab": {}
      },
      "source": [
        "df_train['Sex_binario'] = df_train['Sex'].map(transformar_sexo)\n",
        "df_test['Sex_binario'] = df_test['Sex'].map(transformar_sexo)\n",
        "df_train.head(10)"
      ],
      "execution_count": 0,
      "outputs": []
    },
    {
      "cell_type": "code",
      "metadata": {
        "id": "c0VlFMVvg2Pv",
        "colab_type": "code",
        "outputId": "b620c056-b1f4-453f-db60-679685a2faf7",
        "colab": {
          "base_uri": "https://localhost:8080/",
          "height": 158
        }
      },
      "source": [
        "X = df_train[variaveis]\n",
        "X = X.fillna(-1)\n",
        "y = df_train['Survived']\n",
        "\n",
        "modelo.fit(X, y)"
      ],
      "execution_count": 0,
      "outputs": [
        {
          "output_type": "execute_result",
          "data": {
            "text/plain": [
              "RandomForestClassifier(bootstrap=True, ccp_alpha=0.0, class_weight=None,\n",
              "                       criterion='gini', max_depth=None, max_features='auto',\n",
              "                       max_leaf_nodes=None, max_samples=None,\n",
              "                       min_impurity_decrease=0.0, min_impurity_split=None,\n",
              "                       min_samples_leaf=1, min_samples_split=2,\n",
              "                       min_weight_fraction_leaf=0.0, n_estimators=100,\n",
              "                       n_jobs=-1, oob_score=False, random_state=0, verbose=0,\n",
              "                       warm_start=False)"
            ]
          },
          "metadata": {
            "tags": []
          },
          "execution_count": 121
        }
      ]
    },
    {
      "cell_type": "code",
      "metadata": {
        "id": "wLMHQH0IhzAQ",
        "colab_type": "code",
        "colab": {}
      },
      "source": [
        "\n",
        "df_prev = df_test[variaveis]\n",
        "df_prev = df_prev.fillna(-1)\n",
        "\n",
        "p = modelo.predict(df_prev)\n",
        "p"
      ],
      "execution_count": 0,
      "outputs": []
    },
    {
      "cell_type": "markdown",
      "metadata": {
        "id": "T7wGcv4ljJMg",
        "colab_type": "text"
      },
      "source": [
        "Montando o arquivo para submissão"
      ]
    },
    {
      "cell_type": "code",
      "metadata": {
        "id": "u7BYIKrZjNGQ",
        "colab_type": "code",
        "colab": {}
      },
      "source": [
        "df_sub = pd.Series(p, index=df_test[\"PassengerId\"], name=\"Survived\")\n",
        "df_sub.to_csv(\"modelo1.csv\", header=True)\n",
        "!head -n10 modelo1.csv"
      ],
      "execution_count": 0,
      "outputs": []
    },
    {
      "cell_type": "markdown",
      "metadata": {
        "id": "5JawflOaowZy",
        "colab_type": "text"
      },
      "source": [
        "Subindo este arquivo para o Kaggle vemos que não conseguimos melhorar a acurácia, na realidade piorou 72.7%."
      ]
    },
    {
      "cell_type": "markdown",
      "metadata": {
        "id": "pgZnC-1OpBuD",
        "colab_type": "text"
      },
      "source": [
        "## **Treino e validação**\n"
      ]
    },
    {
      "cell_type": "code",
      "metadata": {
        "id": "ojCJOApupJJP",
        "colab_type": "code",
        "colab": {}
      },
      "source": [
        "from sklearn.model_selection import train_test_split\n",
        "\n",
        "X_falso = np.arange(10)\n",
        "X_falso"
      ],
      "execution_count": 0,
      "outputs": []
    },
    {
      "cell_type": "code",
      "metadata": {
        "id": "pAvJhBTVqVSv",
        "colab_type": "code",
        "colab": {}
      },
      "source": [
        "train_test_split(X_falso, test_size=.40, random_state=0)"
      ],
      "execution_count": 0,
      "outputs": []
    },
    {
      "cell_type": "code",
      "metadata": {
        "id": "oPmzzgILrb3G",
        "colab_type": "code",
        "colab": {}
      },
      "source": [
        "X_train, X_valid, y_train, y_valid = train_test_split(X, y, test_size=.50, random_state=0) #.50 por ter poucos dados"
      ],
      "execution_count": 0,
      "outputs": []
    },
    {
      "cell_type": "code",
      "metadata": {
        "id": "zR1Qpcvcr-oi",
        "colab_type": "code",
        "colab": {}
      },
      "source": [
        "modelo.fit(X_train, y_train)\n",
        "p = modelo.predict(X_valid)\n"
      ],
      "execution_count": 0,
      "outputs": []
    },
    {
      "cell_type": "markdown",
      "metadata": {
        "id": "NaxGUin6155G",
        "colab_type": "text"
      },
      "source": [
        "Validando a acurária"
      ]
    },
    {
      "cell_type": "code",
      "metadata": {
        "id": "FGCkO0K319nV",
        "colab_type": "code",
        "colab": {}
      },
      "source": [
        "np.mean(y_valid == p)"
      ],
      "execution_count": 0,
      "outputs": []
    },
    {
      "cell_type": "code",
      "metadata": {
        "id": "F8iXvCeK2ahQ",
        "colab_type": "code",
        "outputId": "bd34e136-e205-4972-caef-66c0f9f90acf",
        "colab": {
          "base_uri": "https://localhost:8080/",
          "height": 34
        }
      },
      "source": [
        "#Avaliando a baseline\n",
        "p = (X_valid[\"Sex_binario\"]==1).astype(np.int64)\n",
        "np.mean(y_valid == p)"
      ],
      "execution_count": 0,
      "outputs": [
        {
          "output_type": "execute_result",
          "data": {
            "text/plain": [
              "0.7825112107623319"
            ]
          },
          "metadata": {
            "tags": []
          },
          "execution_count": 82
        }
      ]
    },
    {
      "cell_type": "markdown",
      "metadata": {
        "id": "FGIxwXPD4fZF",
        "colab_type": "text"
      },
      "source": [
        "## **Validação cruzada**\n"
      ]
    },
    {
      "cell_type": "code",
      "metadata": {
        "id": "ol0iHrNz4mHn",
        "colab_type": "code",
        "colab": {}
      },
      "source": [
        "from sklearn.model_selection import RepeatedKFold, KFold\n",
        "kf = KFold(3, shuffle=True, random_state = 0)\n",
        "for linhas_treino, linhas_valid in kf.split(X_falso):\n",
        "  print(\"Treino\", linhas_treino)\n",
        "  print(\"Validacao\", linhas_valid)  "
      ],
      "execution_count": 0,
      "outputs": []
    },
    {
      "cell_type": "code",
      "metadata": {
        "id": "TZzCR5gy58sZ",
        "colab_type": "code",
        "colab": {}
      },
      "source": [
        "kf = RepeatedKFold(n_splits=2, n_repeats=10, random_state = 0)\n",
        "resultados=[]\n",
        "for linhas_treino, linhas_valid in kf.split(X):\n",
        "  X_train, X_valid = X.iloc[linhas_treino], X.iloc[linhas_valid]\n",
        "  y_train, y_valid = y.iloc[linhas_treino], y.iloc[linhas_valid]\n",
        "  \n",
        "  modelo = RandomForestClassifier(n_estimators=100, n_jobs=-1, random_state=0)\n",
        "  modelo.fit(X_train, y_train)\n",
        "  p = modelo.predict(X_valid)\n",
        "  \n",
        "  acc = np.mean(y_valid == p)\n",
        "  resultados.append(acc)\n",
        "  print(\"Acc:\", acc)\n",
        "\n",
        "np.mean(resultados)"
      ],
      "execution_count": 0,
      "outputs": []
    },
    {
      "cell_type": "code",
      "metadata": {
        "id": "NAle4kEXBOKx",
        "colab_type": "code",
        "colab": {}
      },
      "source": [
        "plt.hist(resultados)"
      ],
      "execution_count": 0,
      "outputs": []
    },
    {
      "cell_type": "markdown",
      "metadata": {
        "id": "qoMgNEPxQTjn",
        "colab_type": "text"
      },
      "source": [
        "## **Segundo modelo**"
      ]
    },
    {
      "cell_type": "code",
      "metadata": {
        "id": "VHu9MgMhP0IK",
        "colab_type": "code",
        "colab": {}
      },
      "source": [
        "#acuracia anterio 0.77\n",
        "variaveis = ['Sex_binario', 'Age', 'Pclass', 'SibSp', 'Parch', 'Fare']\n",
        "\n",
        "X = df_train[variaveis].fillna(-1)\n",
        "y = df_train['Survived']"
      ],
      "execution_count": 0,
      "outputs": []
    },
    {
      "cell_type": "code",
      "metadata": {
        "id": "Y3YXd0frQ3RU",
        "colab_type": "code",
        "colab": {}
      },
      "source": [
        "kf = RepeatedKFold(n_splits=2, n_repeats=10, random_state = 0)\n",
        "resultados=[]\n",
        "for linhas_treino, linhas_valid in kf.split(X):\n",
        "  X_train, X_valid = X.iloc[linhas_treino], X.iloc[linhas_valid]\n",
        "  y_train, y_valid = y.iloc[linhas_treino], y.iloc[linhas_valid]\n",
        "  \n",
        "  modelo = RandomForestClassifier(n_estimators=300, n_jobs=-1, random_state=0)\n",
        "  modelo.fit(X_train, y_train)\n",
        "  p = modelo.predict(X_valid)\n",
        "  \n",
        "  acc = np.mean(y_valid == p)\n",
        "  resultados.append(acc)\n",
        "  print(\"Acc:\", acc)\n",
        "\n",
        "np.mean(resultados)\n",
        "plt.hist(resultados)"
      ],
      "execution_count": 0,
      "outputs": []
    },
    {
      "cell_type": "markdown",
      "metadata": {
        "id": "zuv3YkrfRp9U",
        "colab_type": "text"
      },
      "source": [
        "## **Retreinar o modelo**\n"
      ]
    },
    {
      "cell_type": "code",
      "metadata": {
        "id": "1VpIQLA9RxuW",
        "colab_type": "code",
        "colab": {}
      },
      "source": [
        " modelo = RandomForestClassifier(n_estimators=300, n_jobs=-1, random_state=0)\n",
        " modelo.fit(X, y)\n",
        "\n",
        " p = modelo.predict(df_test[variaveis].fillna(-1))\n",
        " p"
      ],
      "execution_count": 0,
      "outputs": []
    },
    {
      "cell_type": "code",
      "metadata": {
        "id": "C3Q1k4wkSvdD",
        "colab_type": "code",
        "colab": {}
      },
      "source": [
        "df_sub = pd.Series(p, index=df_test[\"PassengerId\"], name=\"Survived\")\n",
        "df_sub.to_csv(\"modelo2.csv\", header=True)\n",
        "!head -n10 modelo2.csv"
      ],
      "execution_count": 0,
      "outputs": []
    },
    {
      "cell_type": "markdown",
      "metadata": {
        "id": "BVtD81BvgmEV",
        "colab_type": "text"
      },
      "source": [
        "## **Possiveis variaveis**"
      ]
    },
    {
      "cell_type": "code",
      "metadata": {
        "id": "1ALnUTGQgsEb",
        "colab_type": "code",
        "colab": {}
      },
      "source": [
        "df_train['Embarked_S'] = (df_train['Embarked'] == 'S').astype(int)\n",
        "df_train['Embarked_C'] = (df_train['Embarked'] == 'C').astype(int)\n",
        "#df_train['Embarked_Q'] = (df_train['Embarked'] == 'Q').astype(int)\n",
        "\n",
        "df_train['Cabine_nula'] = df_train['Cabin'].isnull().astype(int)\n",
        "\n",
        "df_train['Miss'] = df_train['Name'].str.contains('Miss').astype(int)\n",
        "df_train['Mrs'] = df_train['Name'].str.contains('Mrs').astype(int)\n",
        "df_train['Master'] = df_train['Name'].str.contains('Master').astype(int)\n",
        "df_train['Col'] = df_train['Name'].str.contains('Col').astype(int)\n",
        "df_train['Major'] = df_train['Name'].str.contains('Major').astype(int)\n",
        "df_train['Mr'] = df_train['Name'].str.contains('Mr').astype(int)\n",
        "df_train"
      ],
      "execution_count": 0,
      "outputs": []
    },
    {
      "cell_type": "code",
      "metadata": {
        "id": "6fAWuaGUjWm_",
        "colab_type": "code",
        "colab": {}
      },
      "source": [
        "variaveis = ['Sex_binario', 'Age', 'Pclass', 'SibSp', 'Parch', 'Fare', \n",
        "             'Embarked_S', 'Embarked_C', 'Cabine_nula', 'Miss', 'Mrs',\n",
        "             'Master', 'Col', 'Major', 'Mr']\n",
        "\n",
        "X = df_train[variaveis].fillna(-1)\n",
        "y = df_train['Survived']"
      ],
      "execution_count": 0,
      "outputs": []
    },
    {
      "cell_type": "code",
      "metadata": {
        "id": "Bgpn2z7sj46B",
        "colab_type": "code",
        "colab": {}
      },
      "source": [
        "resultados=[]\n",
        "kf = RepeatedKFold(n_splits=2, n_repeats=10, random_state = 0)\n",
        "for linhas_treino, linhas_valid in kf.split(X):\n",
        "  X_train, X_valid = X.iloc[linhas_treino], X.iloc[linhas_valid]\n",
        "  y_train, y_valid = y.iloc[linhas_treino], y.iloc[linhas_valid]\n",
        "  \n",
        "  modelo = RandomForestClassifier(n_estimators=300, n_jobs=-1, random_state=0)\n",
        "  modelo.fit(X_train, y_train)\n",
        "  p = modelo.predict(X_valid)\n",
        "  \n",
        "  acc = np.mean(y_valid == p)\n",
        "  resultados.append(acc)\n",
        "  print(\"Acc:\", acc)\n",
        "\n",
        "np.mean(resultados)\n",
        "plt.hist(resultados)"
      ],
      "execution_count": 0,
      "outputs": []
    },
    {
      "cell_type": "code",
      "metadata": {
        "id": "S8Ysm4allbSu",
        "colab_type": "code",
        "colab": {}
      },
      "source": [
        "df_test['Embarked_S'] = (df_test['Embarked'] == 'S').astype(int)\n",
        "df_test['Embarked_C'] = (df_test['Embarked'] == 'C').astype(int)\n",
        "#df_test['Embarked_Q'] = (df_test['Embarked'] == 'Q').astype(int)\n",
        "\n",
        "df_test['Cabine_nula'] = df_test['Cabin'].isnull().astype(int)\n",
        "\n",
        "df_test['Miss'] = df_test['Name'].str.contains('Miss').astype(int)\n",
        "df_test['Mrs'] = df_test['Name'].str.contains('Mrs').astype(int)\n",
        "df_test['Master'] = df_test['Name'].str.contains('Master').astype(int)\n",
        "df_test['Col'] = df_test['Name'].str.contains('Col').astype(int)\n",
        "df_test['Major'] = df_test['Name'].str.contains('Major').astype(int)\n",
        "df_test['Mr'] = df_test['Name'].str.contains('Mr').astype(int)\n",
        "\n",
        "modelo = RandomForestClassifier(n_estimators=300, n_jobs=-1, random_state=0)\n",
        "modelo.fit(X, y)\n",
        "\n",
        "p = modelo.predict(df_test[variaveis].fillna(-1))\n",
        "p\n"
      ],
      "execution_count": 0,
      "outputs": []
    },
    {
      "cell_type": "code",
      "metadata": {
        "id": "JhVybygjl-O3",
        "colab_type": "code",
        "colab": {}
      },
      "source": [
        "df_sub = pd.Series(p, index=df_test[\"PassengerId\"], name=\"Survived\")\n",
        "df_sub.to_csv(\"modelo3.csv\", header=True)\n",
        "!head -n10 modelo3.csv"
      ],
      "execution_count": 0,
      "outputs": []
    },
    {
      "cell_type": "markdown",
      "metadata": {
        "id": "RnSOCqWom8uV",
        "colab_type": "text"
      },
      "source": [
        ""
      ]
    },
    {
      "cell_type": "code",
      "metadata": {
        "id": "qZ-kd15fm7Bt",
        "colab_type": "code",
        "outputId": "3ff73e43-948f-4639-88bb-71566f7c8438",
        "colab": {
          "base_uri": "https://localhost:8080/",
          "height": 122
        }
      },
      "source": [
        "from sklearn.tree import DecisionTreeClassifier\n",
        "\n",
        "modelo = DecisionTreeClassifier(max_depth= 10, min_samples_leaf=5)\n",
        "modelo.fit(X, y)"
      ],
      "execution_count": 0,
      "outputs": [
        {
          "output_type": "execute_result",
          "data": {
            "text/plain": [
              "DecisionTreeClassifier(ccp_alpha=0.0, class_weight=None, criterion='gini',\n",
              "                       max_depth=10, max_features=None, max_leaf_nodes=None,\n",
              "                       min_impurity_decrease=0.0, min_impurity_split=None,\n",
              "                       min_samples_leaf=5, min_samples_split=2,\n",
              "                       min_weight_fraction_leaf=0.0, presort='deprecated',\n",
              "                       random_state=None, splitter='best')"
            ]
          },
          "metadata": {
            "tags": []
          },
          "execution_count": 144
        }
      ]
    },
    {
      "cell_type": "code",
      "metadata": {
        "id": "xSOrTJrPnU4b",
        "colab_type": "code",
        "colab": {}
      },
      "source": [
        "p = modelo.predict(df_test[variaveis].fillna(-1))\n",
        "\n",
        "df_sub = pd.Series(p, index=df_test[\"PassengerId\"], name=\"Survived\")\n",
        "df_sub.to_csv(\"modelo5.csv\", header=True)\n",
        "!head -n10 modelo5.csv"
      ],
      "execution_count": 0,
      "outputs": []
    },
    {
      "cell_type": "code",
      "metadata": {
        "id": "sJlpIE_wt9O1",
        "colab_type": "code",
        "colab": {}
      },
      "source": [
        "df_train['Embarked_S'] = (df_train['Embarked'] == 'S').astype(int)\n",
        "df_train['Embarked_C'] = (df_train['Embarked'] == 'C').astype(int)\n",
        "#df_train['Embarked_Q'] = (df_train['Embarked'] == 'Q').astype(int)\n",
        "\n",
        "df_train['Cabine_nula'] = df_train['Cabin'].isnull().astype(int)\n",
        "\n",
        "df_train['Miss'] = df_train['Name'].str.contains('Miss').astype(int)\n",
        "df_train['Mrs'] = df_train['Name'].str.contains('Mrs').astype(int)\n",
        "df_train['Master'] = df_train['Name'].str.contains('Master').astype(int)\n",
        "df_train['Col'] = df_train['Name'].str.contains('Col').astype(int)\n",
        "df_train['Major'] = df_train['Name'].str.contains('Major').astype(int)\n",
        "df_train['Mr'] = df_train['Name'].str.contains('Mr').astype(int)\n",
        "\n",
        "df_test['Embarked_S'] = (df_test['Embarked'] == 'S').astype(int)\n",
        "df_test['Embarked_C'] = (df_test['Embarked'] == 'C').astype(int)\n",
        "#df_test['Embarked_Q'] = (df_test['Embarked'] == 'Q').astype(int)\n",
        "\n",
        "df_test['Cabine_nula'] = df_test['Cabin'].isnull().astype(int)\n",
        "\n",
        "df_test['Miss'] = df_test['Name'].str.contains('Miss').astype(int)\n",
        "df_test['Mrs'] = df_test['Name'].str.contains('Mrs').astype(int)\n",
        "df_test['Master'] = df_test['Name'].str.contains('Master').astype(int)\n",
        "df_test['Col'] = df_test['Name'].str.contains('Col').astype(int)\n",
        "df_test['Major'] = df_test['Name'].str.contains('Major').astype(int)\n",
        "df_test['Mr'] = df_test['Name'].str.contains('Mr').astype(int)\n",
        "\n",
        "variaveis = ['Sex_binario', 'Age', 'Pclass', 'SibSp', 'Parch', 'Fare', \n",
        "             'Embarked_S', 'Embarked_C', 'Cabine_nula', 'Miss', 'Mrs',\n",
        "             'Master', 'Col', 'Major', 'Mr']\n",
        "\n",
        "X = df_train[variaveis].fillna(-1)\n",
        "y = df_train['Survived']\n",
        "\n",
        "from sklearn.linear_model import LinearRegression\n",
        "modelo = LinearRegression()\n",
        "modelo.fit(X, y)\n",
        "\n",
        "\n",
        "p = modelo.predict(df_test[variaveis].fillna(-1))\n",
        "p = (p > 0.7).astype(int)\n",
        "df_sub = pd.Series(p, index=df_test[\"PassengerId\"], name=\"Survived\")\n",
        "df_sub.to_csv(\"modelo6.csv\", header=True)\n",
        "!head -n10 modelo6.csv\n",
        "\n",
        "\n",
        "#ver https://www.kaggle.com/paulorzp/titanic-gp-model-training"
      ],
      "execution_count": 0,
      "outputs": []
    }
  ]
}